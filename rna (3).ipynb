{
  "nbformat": 4,
  "nbformat_minor": 0,
  "metadata": {
    "colab": {
      "provenance": [],
      "gpuType": "T4"
    },
    "kernelspec": {
      "name": "python3",
      "display_name": "Python 3"
    },
    "language_info": {
      "name": "python"
    },
    "accelerator": "GPU"
  },
  "cells": [
    {
      "cell_type": "code",
      "source": [
        "#/content -root drive"
      ],
      "metadata": {
        "id": "blDAHU8GFl77"
      },
      "execution_count": null,
      "outputs": []
    },
    {
      "cell_type": "code",
      "execution_count": null,
      "metadata": {
        "id": "jOGteNdLrRZV",
        "colab": {
          "base_uri": "https://localhost:8080/"
        },
        "outputId": "92537d15-fcbc-49a1-e35e-1080c02152ee"
      },
      "outputs": [
        {
          "output_type": "stream",
          "name": "stdout",
          "text": [
            "Reading package lists... Done\n",
            "Building dependency tree... Done\n",
            "Reading state information... Done\n",
            "The following additional packages will be installed:\n",
            "  blends-common libkdf5-2 libncbi-vdb2 libncbi-wvdb2 med-config menu\n",
            "Suggested packages:\n",
            "  blends-doc menu-l10n gksu | kde-runtime | ktsuss\n",
            "The following NEW packages will be installed:\n",
            "  blends-common libkdf5-2 libncbi-vdb2 libncbi-wvdb2 med-config menu sra-toolkit\n",
            "0 upgraded, 7 newly installed, 0 to remove and 45 not upgraded.\n",
            "Need to get 8,290 kB of archives.\n",
            "After this operation, 23.0 MB of additional disk space will be used.\n",
            "Get:1 http://archive.ubuntu.com/ubuntu jammy/universe amd64 menu amd64 2.1.47ubuntu4 [354 kB]\n",
            "Get:2 http://archive.ubuntu.com/ubuntu jammy/universe amd64 blends-common all 0.7.4ubuntu1 [15.9 kB]\n",
            "Get:3 http://archive.ubuntu.com/ubuntu jammy/universe amd64 libkdf5-2 amd64 2.11.2+dfsg-4build2 [14.7 kB]\n",
            "Get:4 http://archive.ubuntu.com/ubuntu jammy/universe amd64 libncbi-vdb2 amd64 2.11.2+dfsg-4build2 [1,364 kB]\n",
            "Get:5 http://archive.ubuntu.com/ubuntu jammy/universe amd64 libncbi-wvdb2 amd64 2.11.2+dfsg-4build2 [1,252 kB]\n",
            "Get:6 http://archive.ubuntu.com/ubuntu jammy/universe amd64 sra-toolkit amd64 2.11.3+dfsg-1ubuntu1 [5,277 kB]\n",
            "Get:7 http://archive.ubuntu.com/ubuntu jammy/universe amd64 med-config all 3.7.1 [11.6 kB]\n",
            "Fetched 8,290 kB in 2s (3,773 kB/s)\n",
            "Preconfiguring packages ...\n",
            "Selecting previously unselected package menu.\n",
            "(Reading database ... 123598 files and directories currently installed.)\n",
            "Preparing to unpack .../0-menu_2.1.47ubuntu4_amd64.deb ...\n",
            "Unpacking menu (2.1.47ubuntu4) ...\n",
            "Selecting previously unselected package blends-common.\n",
            "Preparing to unpack .../1-blends-common_0.7.4ubuntu1_all.deb ...\n",
            "Unpacking blends-common (0.7.4ubuntu1) ...\n",
            "Selecting previously unselected package libkdf5-2.\n",
            "Preparing to unpack .../2-libkdf5-2_2.11.2+dfsg-4build2_amd64.deb ...\n",
            "Unpacking libkdf5-2 (2.11.2+dfsg-4build2) ...\n",
            "Selecting previously unselected package libncbi-vdb2.\n",
            "Preparing to unpack .../3-libncbi-vdb2_2.11.2+dfsg-4build2_amd64.deb ...\n",
            "Unpacking libncbi-vdb2 (2.11.2+dfsg-4build2) ...\n",
            "Selecting previously unselected package libncbi-wvdb2.\n",
            "Preparing to unpack .../4-libncbi-wvdb2_2.11.2+dfsg-4build2_amd64.deb ...\n",
            "Unpacking libncbi-wvdb2 (2.11.2+dfsg-4build2) ...\n",
            "Selecting previously unselected package sra-toolkit.\n",
            "Preparing to unpack .../5-sra-toolkit_2.11.3+dfsg-1ubuntu1_amd64.deb ...\n",
            "Unpacking sra-toolkit (2.11.3+dfsg-1ubuntu1) ...\n",
            "Selecting previously unselected package med-config.\n",
            "Preparing to unpack .../6-med-config_3.7.1_all.deb ...\n",
            "Unpacking med-config (3.7.1) ...\n",
            "Setting up libncbi-vdb2 (2.11.2+dfsg-4build2) ...\n",
            "Setting up libkdf5-2 (2.11.2+dfsg-4build2) ...\n",
            "Setting up libncbi-wvdb2 (2.11.2+dfsg-4build2) ...\n",
            "Setting up menu (2.1.47ubuntu4) ...\n",
            "Setting up blends-common (0.7.4ubuntu1) ...\n",
            "Setting up sra-toolkit (2.11.3+dfsg-1ubuntu1) ...\n",
            "Setting up med-config (3.7.1) ...\n",
            "Adding group `med' (GID 107) ...\n",
            "Done.\n",
            "Processing triggers for man-db (2.10.2-1) ...\n",
            "Processing triggers for libc-bin (2.35-0ubuntu3.4) ...\n",
            "/sbin/ldconfig.real: /usr/local/lib/libtbbbind_2_0.so.3 is not a symbolic link\n",
            "\n",
            "/sbin/ldconfig.real: /usr/local/lib/libur_adapter_opencl.so.0 is not a symbolic link\n",
            "\n",
            "/sbin/ldconfig.real: /usr/local/lib/libur_adapter_level_zero.so.0 is not a symbolic link\n",
            "\n",
            "/sbin/ldconfig.real: /usr/local/lib/libtbbmalloc_proxy.so.2 is not a symbolic link\n",
            "\n",
            "/sbin/ldconfig.real: /usr/local/lib/libtbbbind_2_5.so.3 is not a symbolic link\n",
            "\n",
            "/sbin/ldconfig.real: /usr/local/lib/libur_loader.so.0 is not a symbolic link\n",
            "\n",
            "/sbin/ldconfig.real: /usr/local/lib/libtbbmalloc.so.2 is not a symbolic link\n",
            "\n",
            "/sbin/ldconfig.real: /usr/local/lib/libtbb.so.12 is not a symbolic link\n",
            "\n",
            "/sbin/ldconfig.real: /usr/local/lib/libtbbbind.so.3 is not a symbolic link\n",
            "\n",
            "Processing triggers for menu (2.1.47ubuntu4) ...\n"
          ]
        }
      ],
      "source": [
        "#Install SRA toolkit\n",
        "!apt-get install -y sra-toolkit"
      ]
    },
    {
      "cell_type": "markdown",
      "source": [
        "#### fastq-dump\n",
        "\n",
        "fastq-dump is a SRA toolkit for converting SRA files to FASTQ format."
      ],
      "metadata": {
        "id": "uFYwmjsOawlM"
      }
    },
    {
      "cell_type": "code",
      "source": [
        "# Create a directory to store the FASTQ files\n",
        "!mkdir -p raw_fastq\n",
        "\n",
        "# Download and convert the SRA data to FASTQ format\n",
        "!fastq-dump SRR26832288 --outdir raw_fastq\n"
      ],
      "metadata": {
        "colab": {
          "base_uri": "https://localhost:8080/"
        },
        "id": "j-XDXHV7r2nl",
        "outputId": "723c2192-f343-48a2-b83a-ffe45e583144"
      },
      "execution_count": null,
      "outputs": [
        {
          "output_type": "stream",
          "name": "stdout",
          "text": [
            "Read 501835 spots for SRR26832288\n",
            "Written 501835 spots for SRR26832288\n"
          ]
        }
      ]
    },
    {
      "cell_type": "code",
      "source": [
        "! head -n 10 raw_fastq/SRR26832288.fastq"
      ],
      "metadata": {
        "colab": {
          "base_uri": "https://localhost:8080/"
        },
        "id": "MWDPL_posKuC",
        "outputId": "f4ea01d0-4448-4031-f0c0-f8cb4d4ee561"
      },
      "execution_count": null,
      "outputs": [
        {
          "output_type": "stream",
          "name": "stdout",
          "text": [
            "@SRR26832288.1 M04882:215:000000000-JG584:1:1101:18727:1029 length=348\n",
            "NTNGTGNNCNANCTNNNNTNANCNANAGGNTGNNCANNNAGGGCCACTTGANNTGGACCGGTGGGAACACGTTTTTCAGGTCCTCNAGCANGGTCANCCTGCTGCCNGCNCNGNANNTNNGNNNNTNGNNCCCANGTNCNCNGGCGCNCNNNNNCNNAAGGGANNNNNTACTGCTNNCANNNNNGTANNNANNNNNNTCNCNNNNTTCNGAGGGCTGNANNNNNAGNGNGGAGAATGNTNCNTTAGGCATNNNNNNTNAGAATCGATCCTCNGNNATCNNNNNANNNTCTATNNNNANGTTGTNGNTNNAGTNANNGNNNAACNNNNGTNNCCNNATNNTGGNNTGTC\n",
            "+SRR26832288.1 M04882:215:000000000-JG584:1:1101:18727:1029 length=348\n",
            "#8#8AF##=#=#=C####=#:#9#:#:CC#:C##,:###::CFFGFGGGFF##8ACGGGAGGGGGGGGGGGGGGGGGGGGGGGGG#6CFG#6CDFF#:C@EGGGGG#:C#:#:#:##:##:####:#:##::FF#:9#:#:#6:FFG#:#####:##::DFCF#####9:BFGGA##::#####::4###3######83#:####::B#:@FGFGGE#:#####56#6#6@*>FFGF#*#5#66>8CC9?######4#*41=F@FG5CBFC#3##3*3#####3###*21;*####2#225C:#1#2##12*#1##2###11/####1*##11##))##119##))-(\n",
            "@SRR26832288.2 M04882:215:000000000-JG584:1:1101:10173:1030 length=348\n",
            "NTNGTGNNANATGCGTNNTNATACANAGGNCTNNGAGANGGGCTGACTTGANNTGGACCGGTGGGAACACGTTTTTCAGGTCCTCGAGCANTGTCANCCGGGTGCCNGGNCNANANTACTGCGTATNTGTGCTCNCANCCTGGAGGCCCNGNACAAAAACCGGTGCNNCCCGCTCTGCTGNCNNAGANTCAGNTCNGGTNCNNNNCACNGCTGAGAGCCCNNNCGCNCNCCCAGCACCCNGAACCAGGAGNCCNNNGCCCAGACGCCCAGCAGCNCCTCNNNNCNNNGCCCCNNNNAGAGTCCNTNGNNTCCNGNNGNNNGTATCNNGACAGATNGGNAGAGCACACG\n",
            "+SRR26832288.2 M04882:215:000000000-JG584:1:1101:10173:1030 length=348\n",
            "#8#8AF##=#:CFGGG##=#=CFGF#:CF#:C##::C<#:CEGGGGGGGGG##8ACGGGGGGGGGGGGGGGGGGGGGGGGGGGGGGGGGE#:CFGG#:DFGGGGGG#:D#:#:#:#:CFGGGGGGG#:DFGGGG#:C#:CFFGGGGGGG#:#:AFGGGGGGGGGGG##:BFGGGGGGGGG#:##::B#:BFD#:>#:B>#:####::@#+@FGGGGGGGG###66@#6#6>FGGGGGGG#*4CFGGGEGG#6=###13=FGGGGGGGGGGGGGD#2;CF####2###*2AFG####12*;CGG#2#*##12*#*##*###117:5##*1:5<42#00#019DF:F>?(\n",
            "@SRR26832288.3 M04882:215:000000000-JG584:1:1101:20567:1036 length=348\n",
            "NTNGTGNNTNTNCAGNNNTNATTNTNACGNGCNNCTTNNCCAAACACTTGANNTGGACCGGTGGGAACACCTTGTTCAGGTCCTCNACAGNCACTGNCCTCAGGATNTTNTNANANCCNNANNNNTNGNTGTCTNTGNANGNCTGTTNGNNNNNGNNGCTCGTNNNNNTCACGACNNGANNNNNACGNNNGNNNNNNAGNGNNNNCGTNTGAACTCCAGTNNNTCTNGNCCATCTCGNANGNCGTCTTCTNNNNNNANAAAACGAAAAGTANGNNTAANNNNNANNNAGAAANNNNANGGCACNANANNAGGNTNNANNNAATNNNNAANNGAANTANNGGANAGAAA\n"
          ]
        }
      ]
    },
    {
      "cell_type": "code",
      "source": [
        "!echo $(( $(wc -l < raw_fastq/SRR26832288.fastq) / 4 ))\n"
      ],
      "metadata": {
        "colab": {
          "base_uri": "https://localhost:8080/"
        },
        "id": "FtygXqzCsS2F",
        "outputId": "04c92bdf-a05f-45d2-eb81-b47a58a379ba"
      },
      "execution_count": null,
      "outputs": [
        {
          "output_type": "stream",
          "name": "stdout",
          "text": [
            "501835\n"
          ]
        }
      ]
    },
    {
      "cell_type": "markdown",
      "source": [
        "#### To display a FASTQ file in a tabular format"
      ],
      "metadata": {
        "id": "EiVzCUqpbA4K"
      }
    },
    {
      "cell_type": "code",
      "source": [
        "#- - - means create 3lines. indicates that each line should be taken from a different column\n",
        "!cat raw_fastq/SRR26832288.fastq | paste - - - ->SRR26832288_tab.txt"
      ],
      "metadata": {
        "id": "euDn-iwlsdeg"
      },
      "execution_count": null,
      "outputs": []
    },
    {
      "cell_type": "code",
      "source": [
        "! head -n 10 SRR26832288_tab.txt"
      ],
      "metadata": {
        "colab": {
          "base_uri": "https://localhost:8080/"
        },
        "id": "T3Ycx0vNvJGS",
        "outputId": "84b16bbb-7bea-4e7e-8423-a1ae7c68e212"
      },
      "execution_count": null,
      "outputs": [
        {
          "output_type": "stream",
          "name": "stdout",
          "text": [
            "@SRR26832288.1 M04882:215:000000000-JG584:1:1101:18727:1029 length=348\tNTNGTGNNCNANCTNNNNTNANCNANAGGNTGNNCANNNAGGGCCACTTGANNTGGACCGGTGGGAACACGTTTTTCAGGTCCTCNAGCANGGTCANCCTGCTGCCNGCNCNGNANNTNNGNNNNTNGNNCCCANGTNCNCNGGCGCNCNNNNNCNNAAGGGANNNNNTACTGCTNNCANNNNNGTANNNANNNNNNTCNCNNNNTTCNGAGGGCTGNANNNNNAGNGNGGAGAATGNTNCNTTAGGCATNNNNNNTNAGAATCGATCCTCNGNNATCNNNNNANNNTCTATNNNNANGTTGTNGNTNNAGTNANNGNNNAACNNNNGTNNCCNNATNNTGGNNTGTC\t+SRR26832288.1 M04882:215:000000000-JG584:1:1101:18727:1029 length=348\t#8#8AF##=#=#=C####=#:#9#:#:CC#:C##,:###::CFFGFGGGFF##8ACGGGAGGGGGGGGGGGGGGGGGGGGGGGGG#6CFG#6CDFF#:C@EGGGGG#:C#:#:#:##:##:####:#:##::FF#:9#:#:#6:FFG#:#####:##::DFCF#####9:BFGGA##::#####::4###3######83#:####::B#:@FGFGGE#:#####56#6#6@*>FFGF#*#5#66>8CC9?######4#*41=F@FG5CBFC#3##3*3#####3###*21;*####2#225C:#1#2##12*#1##2###11/####1*##11##))##119##))-(\n",
            "@SRR26832288.2 M04882:215:000000000-JG584:1:1101:10173:1030 length=348\tNTNGTGNNANATGCGTNNTNATACANAGGNCTNNGAGANGGGCTGACTTGANNTGGACCGGTGGGAACACGTTTTTCAGGTCCTCGAGCANTGTCANCCGGGTGCCNGGNCNANANTACTGCGTATNTGTGCTCNCANCCTGGAGGCCCNGNACAAAAACCGGTGCNNCCCGCTCTGCTGNCNNAGANTCAGNTCNGGTNCNNNNCACNGCTGAGAGCCCNNNCGCNCNCCCAGCACCCNGAACCAGGAGNCCNNNGCCCAGACGCCCAGCAGCNCCTCNNNNCNNNGCCCCNNNNAGAGTCCNTNGNNTCCNGNNGNNNGTATCNNGACAGATNGGNAGAGCACACG\t+SRR26832288.2 M04882:215:000000000-JG584:1:1101:10173:1030 length=348\t#8#8AF##=#:CFGGG##=#=CFGF#:CF#:C##::C<#:CEGGGGGGGGG##8ACGGGGGGGGGGGGGGGGGGGGGGGGGGGGGGGGGE#:CFGG#:DFGGGGGG#:D#:#:#:#:CFGGGGGGG#:DFGGGG#:C#:CFFGGGGGGG#:#:AFGGGGGGGGGGG##:BFGGGGGGGGG#:##::B#:BFD#:>#:B>#:####::@#+@FGGGGGGGG###66@#6#6>FGGGGGGG#*4CFGGGEGG#6=###13=FGGGGGGGGGGGGGD#2;CF####2###*2AFG####12*;CGG#2#*##12*#*##*###117:5##*1:5<42#00#019DF:F>?(\n",
            "@SRR26832288.3 M04882:215:000000000-JG584:1:1101:20567:1036 length=348\tNTNGTGNNTNTNCAGNNNTNATTNTNACGNGCNNCTTNNCCAAACACTTGANNTGGACCGGTGGGAACACCTTGTTCAGGTCCTCNACAGNCACTGNCCTCAGGATNTTNTNANANCCNNANNNNTNGNTGTCTNTGNANGNCTGTTNGNNNNNGNNGCTCGTNNNNNTCACGACNNGANNNNNACGNNNGNNNNNNAGNGNNNNCGTNTGAACTCCAGTNNNTCTNGNCCATCTCGNANGNCGTCTTCTNNNNNNANAAAACGAAAAGTANGNNTAANNNNNANNNAGAAANNNNANGGCACNANANNAGGNTNNANNNAATNNNNAANNGAANTANNGGANAGAAA\t+SRR26832288.3 M04882:215:000000000-JG584:1:1101:20567:1036 length=348\t#8#8AF##6#,#6:C###=#==:#:#:CF#:C##::C##:::DGGGGGCFF##88AD@FGGGGGGDGGGGGGGGGGGGG<FGFGG#,,,6#,,-6@#:,,:CFF,C#,:#9#:#,#,6##,####:#6#6:CF,#,6#:#:#:9,,4#:#####:##:+9+:+#####::+:F+6##:+#####+::###+######++#:####8:3#:3@CD3@>D73###+**#6#6*@FF,3,#*#6#*651:><,######6#66:***4=C*+?9#*##**3#####3###**11;####/#**12*#/#*##*1*#*##*###*1*####/1##**/#))##111#-.0(-\n",
            "@SRR26832288.4 M04882:215:000000000-JG584:1:1101:19386:1047 length=348\tNTNGTGNNCNATGTGTNNTNATACANAGGNCTNNCTCANCCCAGGACTTGANNTGGACCGGTGGGAACACGTTTTTCAGGTCCTCGAGCACCAGGANCCGCGTGCCNGGNCNGNANTACTGGGTCTNTTGGACCNCGNTAGTCCATGGGNTNCTGGCACAGAAGTACNGGGCTGAGTCCCNCNGCTCCAAGGNGCTCATGTNNANTTCNGAATGATAGTCNNNGAANTNTTGAGCTGAGNATCGATCAGGGATNNNTCCTTTATCGCTCTGCATCTTTTCATAANNNGAAAANNNNAACTGGGNGNCNNGACNTNNGNNNTGCTGNNACCAGTANAANGTGTCGTGTC\t+SRR26832288.4 M04882:215:000000000-JG584:1:1101:19386:1047 length=348\t#8#8A,##:#=:CFFF##:#:=DFG#:<F#6C##::DC#:6<CD,GGGGGG##8ABDFGGGFGFGFGGGGGGGGGGGGGGGGGGGGDGDGGDFGGG#:DFGGGDDG#:C#:#:#:#6:CF@FFGGF#:C,D76E#9C#::DGFGGGGGG#9#,:BF<ECGGGFCFGF#:BC<A?,4C9EE#:#+:?<D@GFG#+:=DFGGF##:#++:#3:@DFC<CBFF###83@#3#666>*FFC<F#3*><FFGG9;7*,###668BFD@F;B=::89>+>CGC+B++?C?###3**=*####/2=3:8C#2#1##1**#*##*###*1*/*##11/55*0#))#0*979:)5<0\n",
            "@SRR26832288.5 M04882:215:000000000-JG584:1:1101:13284:1051 length=348\tNTCGTGNNAAACACGTCGTGATTAAATTGGATGCAGTGGTCACAAACTTGANNTGGACCGGTGGGAACACGTTTTTCAGGTCCTCTGTGACCGTGAGCCTGGTGCCCGGCCCGAAGTACTGCTCGTAGGGTCTAATGTCCCGGTTTGCANTNCAGATGTAGAAGCTGNTTTCTTCAGGATNGNCACTGGTCCNTGTCAGAGTGGACAAGGTCAGGCTTGCANGGTTGATGAGAAACTTGNCCTTCTCTACGCCNNGCTCGTATGTGGCCTTGGAGCCCTCATTGGNNGTTGCCATCAGCATGAGANTNTGTTNCNNGGNCTGACGATACCAATACATAGTTGTTGCCT\t+SRR26832288.5 M04882:215:000000000-JG584:1:1101:13284:1051 length=348\t#8ACCG##=CCCEFCFGGFGEEG9CCEAE<,,;FF@CEG<;EEC,GGGGGG##88AFEGGGGGGGGGGGGGGGGGGGGFFGGGGGFGGGGGGGGGFGGGGGGGGGGGGGGGGGGGEGGGGGGGGEGGGG,C<E,<FFGF9F:@>::F<E#:#:4B:B?5EEF,<EG,#++:4BECFFFDF#:#:4:DF<EC,#+:D@FFFFFD7FF@FGDGGC8,>F=EGG#5@DEGFGEGCGGFE;,;#6@FG:DC,@DF:C##161>@BECF@F9CFGCFF@CCCEGF8EGGG##33;EFCFC99EFC+<?C+#*#*12>#*##2*#1/*7EG59DD?94**96=B6:*:0(7684\n",
            "@SRR26832288.6 M04882:215:000000000-JG584:1:1101:13854:1054 length=348\tNGGCTGNNGTGAGAATATGGGGGGAAAAAAAAAAGCCCCCCAAGGACTTGANNTGGACCGGTGGGAACACCTTGTTCAGGTCCTCTAGGATGGAGAGTCGAGTCCCATCACCAAAATGCTGGGGCAAGCCCCCTGTCCGACTGCTGGCANANAAGTACACAGCTGAGNCCCTGGGTTCTGNGNGCTGGATCTTCAGAGTGGAGAATGATGCATTAGGCATCNTAGCTGAGAATCGATCCTCGGGCATCCCTGANNCATCTATCGGAACGTTGTTGTTAAAGTAAANNAGCAACTCCAGTCCCCGCNTNATGGNCNNTCNGTACCAGAAAAGGGAGTTGTGGCCTGAAA\t+SRR26832288.6 M04882:215:000000000-JG584:1:1101:13854:1054 length=348\t#6,,,,##,-,,,,,6,,<,8,+++,:CE::F:@+,4+?+++8,+GGGGGG##8AAFGGGGGGFGGFGGGGGGGGGGGGGGGGGGGGGGGGGGFGGGGGGGGGGGGGGGGGGGGGGGGGGGGGGGGGGGGGGGGGGGGGGGGGGGGGGF#:#:BBFFGGGGGGGGGD#:BFGGGGGGGGG#:#:BFGGGGGGGGGGGGGGGGGGGGGGGGGGGGGGFGGGF#:DFGGGGGGGGGGGGGGGGGGDGGGGGGGGD##16DFFGGGGGGCDGGFEGGFGFGGGGGGGG##33AEGGGGGGGGGFFGGG#*#*1:C#1##/1#*1>FGFGGG4?FGGGGFFFFDGFCDFF>4\n",
            "@SRR26832288.7 M04882:215:000000000-JG584:1:1101:16548:1055 length=348\tNTCGTGNNGCGAAAGTCGTGATGAGATGACTACAGAGACACCAGCACTTGANNTGGACCGGTGGGAACACCTTGTTCAGGTCCTCCAGTACGGTCAGCCTAGAGCCTTCTCCAAAAAACAGCTCCCCTCGCCCTGCATCTACGCTGCTGNCNCAGAAATACAAAGCTNAGTCCCCCAGCTNCNGAGAGCTCAGGTTTAGTTCAGAGTGCAAGTCAGGGAACNGTTGTGCGGAGAATCGTTCAAGAATGTTTCCNNTTGCTCTCTCTTCTCCATTATAATACTGAANNAGGAACTGGAGGCCCTGGNCNAGGCNCNNTTNGTACCAGTACACAGAGCGGTCTCCAGACC\t+SRR26832288.7 M04882:215:000000000-JG584:1:1101:16548:1055 length=348\t#8ACCG##::DCFEGGGGGGGGFDF9EAGGFGGGGFFFGGGEE<@GGGGFG##8ACFFGFGGGGEGGFFGGGGGGGGFGGFGFGGFFGGGGGGGGFFGFGGGFFGGGGGGGGGGGGGGGGGGGFGGGGGGGEFGGGF<CFDFGGGGGGG#:#,,CDFGGGFCFFGGG#4:DFFG?FGEF<#:#:+:DFCFEGGGFFF8FCCCGCFGGGGGGGGGGGGCFFG#:@FGFEFEGE:FFFGCFFGGGGC@DFGGGGG##6>DEFGEFEFGGGFF9BGFGFFCCGFFGC@##13=8CGG68*>EGF=EFG#2#*27/#1##/1#19CGCF*0:CGGFG96))<D3CGGD?7??\n",
            "@SRR26832288.8 M04882:215:000000000-JG584:1:1101:16989:1056 length=348\tNTCGTGNNCATGTAGTCGTGATGGTATCTCTTGTAGCATCTGCCAACTTGANNTGGACCGGTGGGAACACCTTGTTCAGGTCCTCTGTCACAGTGAGCCTGGTCCCGTTCCCAAAGTGGAGGGGTGAATTATAGGGGAGCTGTAGGCTGNCNCAGAAGTACACAGATNTCTGAGAGGGTANANCAGACGCCAACGTGAGGGGGAAATCATCTGTGTTTGCTNTGGAGACACTATAACCATCAGGGACTTCTCCNNTGCCAGTGGTACCTGCAGTATTTGAATAATNNATGAGCCTTAGCCCCAGTNCNAGATNTNNTCNATACCAGTACATGGCATTATGTCTCATAT\t+SRR26832288.8 M04882:215:000000000-JG584:1:1101:16989:1056 length=348\t#8BCCG##66:DFEGGGGGGGGGFF9CFFFGGGGFFE9FFEGFFFGGGGFG##88AFEGFGGGGG8,CEGGGFGGGGGGGGGGGGGGEDFFGGGGFDFF<F@FE@FEF@<FGFGGCFFFFGGG>BC@FFDF<C9@<FGGEFEFGE9A<E#:#:9C<7FFFFEEDF,:#:B7=+B<E@CFE#4#4:4AFEGG+4AC>FD:C7CF7FFFGGEAFGGG<FF@3>#+8+*@:F:FGGGGGFFFGGAC,,*1@CFFGG##66C8*,69BGG;CFFG,>>CGGGGGCFFG9##*1=88C?F?E+A@6?5E=#2#11*/#1##21#*19DFFCCFDCCFF:C4/*1:FGFAFFF4\n",
            "@SRR26832288.9 M04882:215:000000000-JG584:1:1101:12477:1059 length=348\tNTCGTGATGGACCCGTCGTGATAGCAAGAACATCCTGAGGACAGTACTTGANCTGGACCGGTGGGAACACGTTTTTCAGGTCCTCGAGCACCAGGAGCCGCGTGCCTGGCCCGAAGTACTGGGTCTCTTGTATCCTAGCCGTCCCCACAATGTTACAGCTTTGTACAAAAACAGCCCCTCCCATGGGTCCGCCCCCAGAGCCTGGGAGAGACCACCAGAGCNGCTGCTCCTTTGAGGGGAGTGGAGGGTGGGTGACATCACCCCCCATTATGCAAGTTGGTGGTGGNGTATGGACCAGGCCGGGGNCNTCCTNCNNACNCCCAGGCACTGTCCTCAGGATGTTCTTGC\t+SRR26832288.9 M04882:215:000000000-JG584:1:1101:12477:1059 length=348\t#8BCCGGGGGGGGGGGGGGGGGGGGGGFGGGGGGGGGGGGGGGGGGGGGGG#8BCCGGGGGGGGGGGGGGGGGGGGGGGGGGGGGGGGGGGGGGGGGGGGGGGGGGGGGGGGGGGGGGGGGGGGGGGGGGGGGGGGGGGGGGGGGGGGGGGGGGGGGGGGGGGFGGGGGGGGGGGGGGGGGGGGGGGGGGGGGGGGGGGGGGGGGGGGGGGGGGGGGGGGF#6@FGGCGGGGGGGGGGGCGGGG:CEGGGGGGGGGGGGGGGGGGGGGGGGFGGGGGGGGGGG8EG#2AFGGGFGGGGGGGGGGG#/#29:5#/##/2#*19CFGGCFFF?CFGG?FF?FGG7.=@A2\n",
            "@SRR26832288.10 M04882:215:000000000-JG584:1:1101:12338:1061 length=348\tNTCGTGATGCAACAGTCGTGATGCCGGCTCTCTAGAGGTGTAAATACTTGANCTGGACCGGTGGGAACACCTTGTTCAGGTCCTCGAGCACCAGGAGCCGCGTGCCTGGCCCGAAGTACTGGGTCTCTTGTTCCCCGCTAGTGGAGAAAGCACTGCAGATGTAGAAGCTGCTGTCTTCAGGATGGGCACTGGTCACTGTCAGATTGGACAAGGTCAGGCTTNCATGGTTGATGAGAAACTTGTCCTTCTCGACGCCTTGCTCGTATGTGGCCTTGGAGCCCTCATTNGAAGTTGCCATCAGCATGNGNCTCTNTNNCGNGAACTGACGATACCAAAACATAGTTGTGG\t+SRR26832288.10 M04882:215:000000000-JG584:1:1101:12338:1061 length=348\t#8ACCGGGGGGGGGGGGGGGGGGGGGGGGGGGGGGGGGGGGGGGGGGGGGG#8ACCGGGGGGGGGGGGGGGGGGGGGGGGGGGGGGGGGGGGGGGGGGGGGGGGGGGGGGGGGGGGGGGGGGGGGGGGGGGGGGGGGGGGGGGGGGGGGGGGGGGGGGGGGGGGGGGGGGGGGGGGGGGGGGGGGGGGGGGGGGGGGGGGGGGGGGGGGGGGGGGGGGGGG#:@FGGGGGGGGGGGGGGGGGGGGGGGGGGGGGGGGGGGGGGGGGGGGGGGGGGGGGGGGGGGGG#3=CFGGGGGGGGGGGGGG#/#32A7#*##2/#19CGGGFGGGGGGGGF>FFFCGGFAFF?:\n"
          ]
        }
      ]
    },
    {
      "cell_type": "markdown",
      "source": [
        "**FASTQ READ QUALITY CONTROL**"
      ],
      "metadata": {
        "id": "8Aj2NlfwtEu_"
      }
    },
    {
      "cell_type": "code",
      "source": [
        "!apt-get install -y fastqc"
      ],
      "metadata": {
        "colab": {
          "base_uri": "https://localhost:8080/"
        },
        "id": "aEQ3UOc_vSWw",
        "outputId": "8c55e43d-282b-4be7-b929-5a6845bc9f22"
      },
      "execution_count": null,
      "outputs": [
        {
          "output_type": "stream",
          "name": "stdout",
          "text": [
            "Reading package lists... Done\n",
            "Building dependency tree... Done\n",
            "Reading state information... Done\n",
            "The following additional packages will be installed:\n",
            "  default-jre default-jre-headless fonts-dejavu-core fonts-dejavu-extra libapache-pom-java\n",
            "  libargs4j-java libatk-wrapper-java libatk-wrapper-java-jni libcommons-compress-java\n",
            "  libcommons-io-java libcommons-jexl2-java libcommons-lang3-java libcommons-logging-java\n",
            "  libcommons-math3-java libcommons-parent-java libfindbin-libs-perl libfontenc1 libhtsjdk-java\n",
            "  libjbzip2-java libjson-simple-java libngs-java libngs-sdk-dev libngs-sdk2 libsis-base-java\n",
            "  libsis-base-jni libsis-jhdf5-java libsis-jhdf5-jni libsnappy-java libsnappy-jni libxkbfile1\n",
            "  libxtst6 libxxf86dga1 openjdk-11-jre x11-utils\n",
            "Suggested packages:\n",
            "  libxz-java libcommons-io-java-doc libcommons-lang3-java-doc libavalon-framework-java\n",
            "  libcommons-logging-java-doc libexcalibur-logkit-java liblog4j1.2-java picard-tools\n",
            "  libjson-simple-doc mesa-utils\n",
            "The following NEW packages will be installed:\n",
            "  default-jre default-jre-headless fastqc fonts-dejavu-core fonts-dejavu-extra libapache-pom-java\n",
            "  libargs4j-java libatk-wrapper-java libatk-wrapper-java-jni libcommons-compress-java\n",
            "  libcommons-io-java libcommons-jexl2-java libcommons-lang3-java libcommons-logging-java\n",
            "  libcommons-math3-java libcommons-parent-java libfindbin-libs-perl libfontenc1 libhtsjdk-java\n",
            "  libjbzip2-java libjson-simple-java libngs-java libngs-sdk-dev libngs-sdk2 libsis-base-java\n",
            "  libsis-base-jni libsis-jhdf5-java libsis-jhdf5-jni libsnappy-java libsnappy-jni libxkbfile1\n",
            "  libxtst6 libxxf86dga1 openjdk-11-jre x11-utils\n",
            "0 upgraded, 35 newly installed, 0 to remove and 45 not upgraded.\n",
            "Need to get 11.8 MB of archives.\n",
            "After this operation, 24.8 MB of additional disk space will be used.\n",
            "Get:1 http://archive.ubuntu.com/ubuntu jammy/main amd64 default-jre-headless amd64 2:1.11-72build2 [3,042 B]\n",
            "Get:2 http://archive.ubuntu.com/ubuntu jammy/main amd64 libxtst6 amd64 2:1.2.3-1build4 [13.4 kB]\n",
            "Get:3 http://archive.ubuntu.com/ubuntu jammy-updates/main amd64 openjdk-11-jre amd64 11.0.24+8-1ubuntu3~22.04 [214 kB]\n",
            "Get:4 http://archive.ubuntu.com/ubuntu jammy/main amd64 default-jre amd64 2:1.11-72build2 [896 B]\n",
            "Get:5 http://archive.ubuntu.com/ubuntu jammy/universe amd64 libcommons-math3-java all 3.6.1-3 [2,016 kB]\n",
            "Get:6 http://archive.ubuntu.com/ubuntu jammy/universe amd64 libjbzip2-java all 0.9.1-7 [42.8 kB]\n",
            "Get:7 http://archive.ubuntu.com/ubuntu jammy/universe amd64 libapache-pom-java all 18-1 [4,720 B]\n",
            "Get:8 http://archive.ubuntu.com/ubuntu jammy/universe amd64 libcommons-parent-java all 43-1 [10.8 kB]\n",
            "Get:9 http://archive.ubuntu.com/ubuntu jammy/universe amd64 libcommons-compress-java all 1.21-1 [575 kB]\n",
            "Get:10 http://archive.ubuntu.com/ubuntu jammy/universe amd64 libcommons-logging-java all 1.2-2 [60.3 kB]\n",
            "Get:11 http://archive.ubuntu.com/ubuntu jammy/universe amd64 libcommons-jexl2-java all 2.1.1-5 [251 kB]\n",
            "Get:12 http://archive.ubuntu.com/ubuntu jammy/universe amd64 libjson-simple-java all 2.3.0-1 [61.0 kB]\n",
            "Get:13 http://archive.ubuntu.com/ubuntu jammy/universe amd64 libngs-sdk2 amd64 2.11.2-3 [65.6 kB]\n",
            "Get:14 http://archive.ubuntu.com/ubuntu jammy/universe amd64 libngs-sdk-dev amd64 2.11.2-3 [111 kB]\n",
            "Get:15 http://archive.ubuntu.com/ubuntu jammy/universe amd64 libngs-java amd64 2.11.2-3 [75.8 kB]\n",
            "Get:16 http://archive.ubuntu.com/ubuntu jammy/universe amd64 libsnappy-jni amd64 1.1.8.3-1 [6,756 B]\n",
            "Get:17 http://archive.ubuntu.com/ubuntu jammy/universe amd64 libsnappy-java all 1.1.8.3-1 [93.9 kB]\n",
            "Get:18 http://archive.ubuntu.com/ubuntu jammy/universe amd64 libhtsjdk-java all 2.24.1+dfsg-1 [1,644 kB]\n",
            "Get:19 http://archive.ubuntu.com/ubuntu jammy/universe amd64 libfindbin-libs-perl all 2.190.02-1 [23.2 kB]\n",
            "Get:20 http://archive.ubuntu.com/ubuntu jammy/universe amd64 libargs4j-java all 2.33-1.1 [137 kB]\n",
            "Get:21 http://archive.ubuntu.com/ubuntu jammy/universe amd64 libcommons-io-java all 2.11.0-2 [297 kB]\n",
            "Get:22 http://archive.ubuntu.com/ubuntu jammy/universe amd64 libcommons-lang3-java all 3.11-1 [526 kB]\n",
            "Get:23 http://archive.ubuntu.com/ubuntu jammy/universe amd64 libsis-base-jni amd64 18.09~pre1+git20180928.45fbd31+dfsg-3 [12.7 kB]\n",
            "Get:24 http://archive.ubuntu.com/ubuntu jammy/universe amd64 libsis-base-java all 18.09~pre1+git20180928.45fbd31+dfsg-3 [96.4 kB]\n",
            "Get:25 http://archive.ubuntu.com/ubuntu jammy/universe amd64 libsis-jhdf5-jni amd64 19.04.0+dfsg-4 [96.6 kB]\n",
            "Get:26 http://archive.ubuntu.com/ubuntu jammy/universe amd64 libsis-jhdf5-java all 19.04.0+dfsg-4 [1,490 kB]\n",
            "Get:27 http://archive.ubuntu.com/ubuntu jammy/universe amd64 fastqc all 0.11.9+dfsg-5 [370 kB]\n",
            "Get:28 http://archive.ubuntu.com/ubuntu jammy/main amd64 fonts-dejavu-core all 2.37-2build1 [1,041 kB]\n",
            "Get:29 http://archive.ubuntu.com/ubuntu jammy/main amd64 fonts-dejavu-extra all 2.37-2build1 [2,041 kB]\n",
            "Get:30 http://archive.ubuntu.com/ubuntu jammy/main amd64 libfontenc1 amd64 1:1.1.4-1build3 [14.7 kB]\n",
            "Get:31 http://archive.ubuntu.com/ubuntu jammy/main amd64 libxkbfile1 amd64 1:1.1.0-1build3 [71.8 kB]\n",
            "Get:32 http://archive.ubuntu.com/ubuntu jammy/main amd64 libxxf86dga1 amd64 2:1.1.5-0ubuntu3 [12.6 kB]\n",
            "Get:33 http://archive.ubuntu.com/ubuntu jammy/main amd64 x11-utils amd64 7.7+5build2 [206 kB]\n",
            "Get:34 http://archive.ubuntu.com/ubuntu jammy/main amd64 libatk-wrapper-java all 0.38.0-5build1 [53.1 kB]\n",
            "Get:35 http://archive.ubuntu.com/ubuntu jammy/main amd64 libatk-wrapper-java-jni amd64 0.38.0-5build1 [49.0 kB]\n",
            "Fetched 11.8 MB in 4s (3,275 kB/s)\n",
            "Extracting templates from packages: 100%\n",
            "Selecting previously unselected package default-jre-headless.\n",
            "(Reading database ... 123948 files and directories currently installed.)\n",
            "Preparing to unpack .../00-default-jre-headless_2%3a1.11-72build2_amd64.deb ...\n",
            "Unpacking default-jre-headless (2:1.11-72build2) ...\n",
            "Selecting previously unselected package libxtst6:amd64.\n",
            "Preparing to unpack .../01-libxtst6_2%3a1.2.3-1build4_amd64.deb ...\n",
            "Unpacking libxtst6:amd64 (2:1.2.3-1build4) ...\n",
            "Selecting previously unselected package openjdk-11-jre:amd64.\n",
            "Preparing to unpack .../02-openjdk-11-jre_11.0.24+8-1ubuntu3~22.04_amd64.deb ...\n",
            "Unpacking openjdk-11-jre:amd64 (11.0.24+8-1ubuntu3~22.04) ...\n",
            "Selecting previously unselected package default-jre.\n",
            "Preparing to unpack .../03-default-jre_2%3a1.11-72build2_amd64.deb ...\n",
            "Unpacking default-jre (2:1.11-72build2) ...\n",
            "Selecting previously unselected package libcommons-math3-java.\n",
            "Preparing to unpack .../04-libcommons-math3-java_3.6.1-3_all.deb ...\n",
            "Unpacking libcommons-math3-java (3.6.1-3) ...\n",
            "Selecting previously unselected package libjbzip2-java.\n",
            "Preparing to unpack .../05-libjbzip2-java_0.9.1-7_all.deb ...\n",
            "Unpacking libjbzip2-java (0.9.1-7) ...\n",
            "Selecting previously unselected package libapache-pom-java.\n",
            "Preparing to unpack .../06-libapache-pom-java_18-1_all.deb ...\n",
            "Unpacking libapache-pom-java (18-1) ...\n",
            "Selecting previously unselected package libcommons-parent-java.\n",
            "Preparing to unpack .../07-libcommons-parent-java_43-1_all.deb ...\n",
            "Unpacking libcommons-parent-java (43-1) ...\n",
            "Selecting previously unselected package libcommons-compress-java.\n",
            "Preparing to unpack .../08-libcommons-compress-java_1.21-1_all.deb ...\n",
            "Unpacking libcommons-compress-java (1.21-1) ...\n",
            "Selecting previously unselected package libcommons-logging-java.\n",
            "Preparing to unpack .../09-libcommons-logging-java_1.2-2_all.deb ...\n",
            "Unpacking libcommons-logging-java (1.2-2) ...\n",
            "Selecting previously unselected package libcommons-jexl2-java.\n",
            "Preparing to unpack .../10-libcommons-jexl2-java_2.1.1-5_all.deb ...\n",
            "Unpacking libcommons-jexl2-java (2.1.1-5) ...\n",
            "Selecting previously unselected package libjson-simple-java.\n",
            "Preparing to unpack .../11-libjson-simple-java_2.3.0-1_all.deb ...\n",
            "Unpacking libjson-simple-java (2.3.0-1) ...\n",
            "Selecting previously unselected package libngs-sdk2:amd64.\n",
            "Preparing to unpack .../12-libngs-sdk2_2.11.2-3_amd64.deb ...\n",
            "Unpacking libngs-sdk2:amd64 (2.11.2-3) ...\n",
            "Selecting previously unselected package libngs-sdk-dev:amd64.\n",
            "Preparing to unpack .../13-libngs-sdk-dev_2.11.2-3_amd64.deb ...\n",
            "Unpacking libngs-sdk-dev:amd64 (2.11.2-3) ...\n",
            "Selecting previously unselected package libngs-java:amd64.\n",
            "Preparing to unpack .../14-libngs-java_2.11.2-3_amd64.deb ...\n",
            "Unpacking libngs-java:amd64 (2.11.2-3) ...\n",
            "Selecting previously unselected package libsnappy-jni.\n",
            "Preparing to unpack .../15-libsnappy-jni_1.1.8.3-1_amd64.deb ...\n",
            "Unpacking libsnappy-jni (1.1.8.3-1) ...\n",
            "Selecting previously unselected package libsnappy-java.\n",
            "Preparing to unpack .../16-libsnappy-java_1.1.8.3-1_all.deb ...\n",
            "Unpacking libsnappy-java (1.1.8.3-1) ...\n",
            "Selecting previously unselected package libhtsjdk-java.\n",
            "Preparing to unpack .../17-libhtsjdk-java_2.24.1+dfsg-1_all.deb ...\n",
            "Unpacking libhtsjdk-java (2.24.1+dfsg-1) ...\n",
            "Selecting previously unselected package libfindbin-libs-perl.\n",
            "Preparing to unpack .../18-libfindbin-libs-perl_2.190.02-1_all.deb ...\n",
            "Unpacking libfindbin-libs-perl (2.190.02-1) ...\n",
            "Selecting previously unselected package libargs4j-java.\n",
            "Preparing to unpack .../19-libargs4j-java_2.33-1.1_all.deb ...\n",
            "Unpacking libargs4j-java (2.33-1.1) ...\n",
            "Selecting previously unselected package libcommons-io-java.\n",
            "Preparing to unpack .../20-libcommons-io-java_2.11.0-2_all.deb ...\n",
            "Unpacking libcommons-io-java (2.11.0-2) ...\n",
            "Selecting previously unselected package libcommons-lang3-java.\n",
            "Preparing to unpack .../21-libcommons-lang3-java_3.11-1_all.deb ...\n",
            "Unpacking libcommons-lang3-java (3.11-1) ...\n",
            "Selecting previously unselected package libsis-base-jni.\n",
            "Preparing to unpack .../22-libsis-base-jni_18.09~pre1+git20180928.45fbd31+dfsg-3_amd64.deb ...\n",
            "Unpacking libsis-base-jni (18.09~pre1+git20180928.45fbd31+dfsg-3) ...\n",
            "Selecting previously unselected package libsis-base-java.\n",
            "Preparing to unpack .../23-libsis-base-java_18.09~pre1+git20180928.45fbd31+dfsg-3_all.deb ...\n",
            "Unpacking libsis-base-java (18.09~pre1+git20180928.45fbd31+dfsg-3) ...\n",
            "Selecting previously unselected package libsis-jhdf5-jni.\n",
            "Preparing to unpack .../24-libsis-jhdf5-jni_19.04.0+dfsg-4_amd64.deb ...\n",
            "Unpacking libsis-jhdf5-jni (19.04.0+dfsg-4) ...\n",
            "Selecting previously unselected package libsis-jhdf5-java.\n",
            "Preparing to unpack .../25-libsis-jhdf5-java_19.04.0+dfsg-4_all.deb ...\n",
            "Unpacking libsis-jhdf5-java (19.04.0+dfsg-4) ...\n",
            "Selecting previously unselected package fastqc.\n",
            "Preparing to unpack .../26-fastqc_0.11.9+dfsg-5_all.deb ...\n",
            "Unpacking fastqc (0.11.9+dfsg-5) ...\n",
            "Selecting previously unselected package fonts-dejavu-core.\n",
            "Preparing to unpack .../27-fonts-dejavu-core_2.37-2build1_all.deb ...\n",
            "Unpacking fonts-dejavu-core (2.37-2build1) ...\n",
            "Selecting previously unselected package fonts-dejavu-extra.\n",
            "Preparing to unpack .../28-fonts-dejavu-extra_2.37-2build1_all.deb ...\n",
            "Unpacking fonts-dejavu-extra (2.37-2build1) ...\n",
            "Selecting previously unselected package libfontenc1:amd64.\n",
            "Preparing to unpack .../29-libfontenc1_1%3a1.1.4-1build3_amd64.deb ...\n",
            "Unpacking libfontenc1:amd64 (1:1.1.4-1build3) ...\n",
            "Selecting previously unselected package libxkbfile1:amd64.\n",
            "Preparing to unpack .../30-libxkbfile1_1%3a1.1.0-1build3_amd64.deb ...\n",
            "Unpacking libxkbfile1:amd64 (1:1.1.0-1build3) ...\n",
            "Selecting previously unselected package libxxf86dga1:amd64.\n",
            "Preparing to unpack .../31-libxxf86dga1_2%3a1.1.5-0ubuntu3_amd64.deb ...\n",
            "Unpacking libxxf86dga1:amd64 (2:1.1.5-0ubuntu3) ...\n",
            "Selecting previously unselected package x11-utils.\n",
            "Preparing to unpack .../32-x11-utils_7.7+5build2_amd64.deb ...\n",
            "Unpacking x11-utils (7.7+5build2) ...\n",
            "Selecting previously unselected package libatk-wrapper-java.\n",
            "Preparing to unpack .../33-libatk-wrapper-java_0.38.0-5build1_all.deb ...\n",
            "Unpacking libatk-wrapper-java (0.38.0-5build1) ...\n",
            "Selecting previously unselected package libatk-wrapper-java-jni:amd64.\n",
            "Preparing to unpack .../34-libatk-wrapper-java-jni_0.38.0-5build1_amd64.deb ...\n",
            "Unpacking libatk-wrapper-java-jni:amd64 (0.38.0-5build1) ...\n",
            "Setting up default-jre-headless (2:1.11-72build2) ...\n",
            "Setting up libxtst6:amd64 (2:1.2.3-1build4) ...\n",
            "Setting up libngs-sdk2:amd64 (2.11.2-3) ...\n",
            "Setting up libxxf86dga1:amd64 (2:1.1.5-0ubuntu3) ...\n",
            "Setting up openjdk-11-jre:amd64 (11.0.24+8-1ubuntu3~22.04) ...\n",
            "Setting up libfindbin-libs-perl (2.190.02-1) ...\n",
            "Setting up default-jre (2:1.11-72build2) ...\n",
            "Setting up libjson-simple-java (2.3.0-1) ...\n",
            "Setting up libsis-base-jni (18.09~pre1+git20180928.45fbd31+dfsg-3) ...\n",
            "Setting up libfontenc1:amd64 (1:1.1.4-1build3) ...\n",
            "Setting up libapache-pom-java (18-1) ...\n",
            "Setting up fonts-dejavu-core (2.37-2build1) ...\n",
            "Setting up libjbzip2-java (0.9.1-7) ...\n",
            "Setting up libngs-sdk-dev:amd64 (2.11.2-3) ...\n",
            "Setting up fonts-dejavu-extra (2.37-2build1) ...\n",
            "Setting up libcommons-math3-java (3.6.1-3) ...\n",
            "Setting up libsis-jhdf5-jni (19.04.0+dfsg-4) ...\n",
            "Setting up libxkbfile1:amd64 (1:1.1.0-1build3) ...\n",
            "Setting up libngs-java:amd64 (2.11.2-3) ...\n",
            "Setting up libsnappy-jni (1.1.8.3-1) ...\n",
            "Setting up libargs4j-java (2.33-1.1) ...\n",
            "Setting up libcommons-parent-java (43-1) ...\n",
            "Setting up libcommons-logging-java (1.2-2) ...\n",
            "Setting up libcommons-jexl2-java (2.1.1-5) ...\n",
            "Setting up libcommons-lang3-java (3.11-1) ...\n",
            "Setting up x11-utils (7.7+5build2) ...\n",
            "Setting up libsnappy-java (1.1.8.3-1) ...\n",
            "Setting up libatk-wrapper-java (0.38.0-5build1) ...\n",
            "Setting up libcommons-compress-java (1.21-1) ...\n",
            "Setting up libcommons-io-java (2.11.0-2) ...\n",
            "Setting up libatk-wrapper-java-jni:amd64 (0.38.0-5build1) ...\n",
            "Setting up libsis-base-java (18.09~pre1+git20180928.45fbd31+dfsg-3) ...\n",
            "Setting up libhtsjdk-java (2.24.1+dfsg-1) ...\n",
            "Setting up libsis-jhdf5-java (19.04.0+dfsg-4) ...\n",
            "Setting up fastqc (0.11.9+dfsg-5) ...\n",
            "Processing triggers for man-db (2.10.2-1) ...\n",
            "Processing triggers for menu (2.1.47ubuntu4) ...\n",
            "Processing triggers for fontconfig (2.13.1-4.2ubuntu5) ...\n",
            "Processing triggers for hicolor-icon-theme (0.17-2) ...\n",
            "Processing triggers for libc-bin (2.35-0ubuntu3.4) ...\n",
            "/sbin/ldconfig.real: /usr/local/lib/libtbbbind_2_0.so.3 is not a symbolic link\n",
            "\n",
            "/sbin/ldconfig.real: /usr/local/lib/libur_adapter_opencl.so.0 is not a symbolic link\n",
            "\n",
            "/sbin/ldconfig.real: /usr/local/lib/libur_adapter_level_zero.so.0 is not a symbolic link\n",
            "\n",
            "/sbin/ldconfig.real: /usr/local/lib/libtbbmalloc_proxy.so.2 is not a symbolic link\n",
            "\n",
            "/sbin/ldconfig.real: /usr/local/lib/libtbbbind_2_5.so.3 is not a symbolic link\n",
            "\n",
            "/sbin/ldconfig.real: /usr/local/lib/libur_loader.so.0 is not a symbolic link\n",
            "\n",
            "/sbin/ldconfig.real: /usr/local/lib/libtbbmalloc.so.2 is not a symbolic link\n",
            "\n",
            "/sbin/ldconfig.real: /usr/local/lib/libtbb.so.12 is not a symbolic link\n",
            "\n",
            "/sbin/ldconfig.real: /usr/local/lib/libtbbbind.so.3 is not a symbolic link\n",
            "\n"
          ]
        }
      ]
    },
    {
      "cell_type": "code",
      "source": [
        "# Running FastQC on the FASTQ file\n",
        "#This generates html file that can be viewed in a browser and a zip file for the fastqc file\n",
        "!mkdir raw_fastq/quality_control\n",
        "!fastqc raw_fastq/SRR26832288.fastq -o raw_fastq/quality_control\n"
      ],
      "metadata": {
        "colab": {
          "base_uri": "https://localhost:8080/"
        },
        "id": "2PGLzUwFtHpw",
        "outputId": "9324dd2b-f6a6-4c0c-dcc5-649facd4951e"
      },
      "execution_count": null,
      "outputs": [
        {
          "output_type": "stream",
          "name": "stdout",
          "text": [
            "Started analysis of SRR26832288.fastq\n",
            "Approx 5% complete for SRR26832288.fastq\n",
            "Approx 10% complete for SRR26832288.fastq\n",
            "Approx 15% complete for SRR26832288.fastq\n",
            "Approx 20% complete for SRR26832288.fastq\n",
            "Approx 25% complete for SRR26832288.fastq\n",
            "Approx 30% complete for SRR26832288.fastq\n",
            "Approx 35% complete for SRR26832288.fastq\n",
            "Approx 40% complete for SRR26832288.fastq\n",
            "Approx 45% complete for SRR26832288.fastq\n",
            "Approx 50% complete for SRR26832288.fastq\n",
            "Approx 55% complete for SRR26832288.fastq\n",
            "Approx 60% complete for SRR26832288.fastq\n",
            "Approx 65% complete for SRR26832288.fastq\n",
            "Approx 70% complete for SRR26832288.fastq\n",
            "Approx 75% complete for SRR26832288.fastq\n",
            "Approx 80% complete for SRR26832288.fastq\n",
            "Approx 85% complete for SRR26832288.fastq\n",
            "Approx 90% complete for SRR26832288.fastq\n",
            "Approx 95% complete for SRR26832288.fastq\n",
            "Analysis complete for SRR26832288.fastq\n"
          ]
        }
      ]
    },
    {
      "cell_type": "code",
      "source": [
        "! ls raw_fastq/quality_control/"
      ],
      "metadata": {
        "colab": {
          "base_uri": "https://localhost:8080/"
        },
        "id": "TXhMQq17v1RH",
        "outputId": "7648d85d-ecae-4eea-b9b4-e628530f0205"
      },
      "execution_count": null,
      "outputs": [
        {
          "output_type": "stream",
          "name": "stdout",
          "text": [
            "ls: cannot access 'raw_fastq/quality_control/': No such file or directory\n"
          ]
        }
      ]
    },
    {
      "cell_type": "code",
      "source": [
        "!ls -lh raw_fastq/quality_control"
      ],
      "metadata": {
        "colab": {
          "base_uri": "https://localhost:8080/"
        },
        "id": "a7hYrf8xzjyh",
        "outputId": "ac9b4f9b-9388-47f4-b7b9-5b35dbdc3bce"
      },
      "execution_count": null,
      "outputs": [
        {
          "output_type": "stream",
          "name": "stdout",
          "text": [
            "ls: cannot access 'raw_fastq/quality_control': No such file or directory\n"
          ]
        }
      ]
    },
    {
      "cell_type": "markdown",
      "source": [
        "##### Granted access to my drive to download and view the report in personal web browser"
      ],
      "metadata": {
        "id": "5l6FNZaKbZGq"
      }
    },
    {
      "cell_type": "code",
      "source": [
        "from google.colab import drive\n",
        "drive.mount('/content/drive')\n"
      ],
      "metadata": {
        "colab": {
          "base_uri": "https://localhost:8080/"
        },
        "id": "JFK-b5vp_VRF",
        "outputId": "873a8662-df49-4a94-cef8-cb6a98049c06"
      },
      "execution_count": null,
      "outputs": [
        {
          "output_type": "stream",
          "name": "stdout",
          "text": [
            "Mounted at /content/drive\n"
          ]
        }
      ]
    },
    {
      "cell_type": "code",
      "source": [
        "\n",
        "!mkdir -p /content/drive/MyDrive/FastQC_Reports\n",
        "!cp raw_fastq/quality_control/SRR26832288_fastqc.html /content/drive/MyDrive/FastQC_Reports/"
      ],
      "metadata": {
        "id": "wLemcW9gAP3a"
      },
      "execution_count": null,
      "outputs": []
    },
    {
      "cell_type": "markdown",
      "source": [
        "**PREPROCESSING OF THE FASTQ READS**\n",
        "\n",
        "(i) trimming the ends of the reads\n",
        "(ii) removing low-quality reads\n",
        "(iii) masking low-quality bases."
      ],
      "metadata": {
        "id": "IChPvOqTDgUB"
      }
    },
    {
      "cell_type": "code",
      "source": [
        "! pip install cutadapt"
      ],
      "metadata": {
        "colab": {
          "base_uri": "https://localhost:8080/"
        },
        "id": "cUF6NlToDlYv",
        "outputId": "d9ce86dd-a1bb-4b8f-ca78-7dd2c560815e"
      },
      "execution_count": null,
      "outputs": [
        {
          "output_type": "stream",
          "name": "stdout",
          "text": [
            "Collecting cutadapt\n",
            "  Downloading cutadapt-4.9-cp310-cp310-manylinux_2_17_x86_64.manylinux2014_x86_64.whl.metadata (3.4 kB)\n",
            "Collecting dnaio>=1.2.0 (from cutadapt)\n",
            "  Downloading dnaio-1.2.1-cp310-cp310-manylinux_2_17_x86_64.manylinux2014_x86_64.whl.metadata (3.5 kB)\n",
            "Collecting xopen>=1.6.0 (from cutadapt)\n",
            "  Downloading xopen-2.0.2-py3-none-any.whl.metadata (15 kB)\n",
            "Collecting isal>=1.6.1 (from xopen>=1.6.0->cutadapt)\n",
            "  Downloading isal-1.6.1-cp310-cp310-manylinux_2_17_x86_64.manylinux2014_x86_64.whl.metadata (9.9 kB)\n",
            "Collecting zlib-ng>=0.4.1 (from xopen>=1.6.0->cutadapt)\n",
            "  Downloading zlib_ng-0.4.3-cp310-cp310-manylinux_2_17_x86_64.manylinux2014_x86_64.whl.metadata (6.7 kB)\n",
            "Downloading cutadapt-4.9-cp310-cp310-manylinux_2_17_x86_64.manylinux2014_x86_64.whl (287 kB)\n",
            "\u001b[2K   \u001b[90m━━━━━━━━━━━━━━━━━━━━━━━━━━━━━━━━━━━━━━━━\u001b[0m \u001b[32m287.7/287.7 kB\u001b[0m \u001b[31m21.8 MB/s\u001b[0m eta \u001b[36m0:00:00\u001b[0m\n",
            "\u001b[?25hDownloading dnaio-1.2.1-cp310-cp310-manylinux_2_17_x86_64.manylinux2014_x86_64.whl (112 kB)\n",
            "\u001b[2K   \u001b[90m━━━━━━━━━━━━━━━━━━━━━━━━━━━━━━━━━━━━━━━━\u001b[0m \u001b[32m112.0/112.0 kB\u001b[0m \u001b[31m10.9 MB/s\u001b[0m eta \u001b[36m0:00:00\u001b[0m\n",
            "\u001b[?25hDownloading xopen-2.0.2-py3-none-any.whl (17 kB)\n",
            "Downloading isal-1.6.1-cp310-cp310-manylinux_2_17_x86_64.manylinux2014_x86_64.whl (258 kB)\n",
            "\u001b[2K   \u001b[90m━━━━━━━━━━━━━━━━━━━━━━━━━━━━━━━━━━━━━━━━\u001b[0m \u001b[32m258.3/258.3 kB\u001b[0m \u001b[31m21.1 MB/s\u001b[0m eta \u001b[36m0:00:00\u001b[0m\n",
            "\u001b[?25hDownloading zlib_ng-0.4.3-cp310-cp310-manylinux_2_17_x86_64.manylinux2014_x86_64.whl (107 kB)\n",
            "\u001b[2K   \u001b[90m━━━━━━━━━━━━━━━━━━━━━━━━━━━━━━━━━━━━━━━━\u001b[0m \u001b[32m107.9/107.9 kB\u001b[0m \u001b[31m10.7 MB/s\u001b[0m eta \u001b[36m0:00:00\u001b[0m\n",
            "\u001b[?25hInstalling collected packages: zlib-ng, isal, xopen, dnaio, cutadapt\n",
            "Successfully installed cutadapt-4.9 dnaio-1.2.1 isal-1.6.1 xopen-2.0.2 zlib-ng-0.4.3\n"
          ]
        }
      ]
    },
    {
      "cell_type": "markdown",
      "source": [
        "-cut 10: This option specifies the number of bases (10) to remove from the beginning of each read\n",
        "•\t--minimum-length 25: Specifies the minimum length (25) a read must have after trimming. Anything less than that is discarded.\n",
        "•\t-q 30: This option sets the quality threshold. Bases with a quality score below 30 will be trimmed.\n"
      ],
      "metadata": {
        "id": "rU_af06YHLkd"
      }
    },
    {
      "cell_type": "code",
      "source": [
        "!mkdir raw_fastq/cutadapt"
      ],
      "metadata": {
        "id": "VqsQ-SAbGN2d"
      },
      "execution_count": null,
      "outputs": []
    },
    {
      "cell_type": "code",
      "source": [
        "! cutadapt --cut 10 --minimum-length 25 -q 30 -o raw_fastq/cutadapt/trim.fastq raw_fastq/SRR26832288.fastq"
      ],
      "metadata": {
        "colab": {
          "base_uri": "https://localhost:8080/"
        },
        "id": "QYBYyf8nJ-iX",
        "outputId": "cba6e7c9-0a9d-4d07-ec4b-76ffc9e40294"
      },
      "execution_count": null,
      "outputs": [
        {
          "output_type": "stream",
          "name": "stdout",
          "text": [
            "This is cutadapt 4.9 with Python 3.10.12\n",
            "Command line parameters: --cut 10 --minimum-length 25 -q 30 -o raw_fastq/cutadapt/trim.fastq raw_fastq/SRR26832288.fastq\n",
            "Processing single-end reads on 1 core ...\n",
            "Done           00:00:02       501,835 reads @   5.7 µs/read;  10.51 M reads/minute\n",
            "Finished in 2.866 s (5.710 µs/read; 10.51 M reads/minute).\n",
            "\n",
            "=== Summary ===\n",
            "\n",
            "Total reads processed:                 501,835\n",
            "\n",
            "== Read fate breakdown ==\n",
            "Reads that were too short:               3,094 (0.6%)\n",
            "Reads written (passing filters):       498,741 (99.4%)\n",
            "\n",
            "Total basepairs processed:   174,638,580 bp\n",
            "Quality-trimmed:              10,508,374 bp (6.0%)\n",
            "Total written (filtered):    159,099,267 bp (91.1%)\n"
          ]
        }
      ]
    },
    {
      "cell_type": "code",
      "source": [
        "!ls -lh raw_fastq/cutadapt/"
      ],
      "metadata": {
        "colab": {
          "base_uri": "https://localhost:8080/"
        },
        "id": "lF7t_1HrH1Ee",
        "outputId": "5867cc91-868a-40cc-f879-0c16da06aefb"
      },
      "execution_count": null,
      "outputs": [
        {
          "output_type": "stream",
          "name": "stdout",
          "text": [
            "total 342M\n",
            "-rw-r--r-- 1 root root 342M Aug  8 16:06 trim.fastq\n"
          ]
        }
      ]
    },
    {
      "cell_type": "markdown",
      "source": [
        "Perform quality control for trimmed data"
      ],
      "metadata": {
        "id": "yAqo8ecNNpiT"
      }
    },
    {
      "cell_type": "code",
      "source": [
        "!mkdir raw_fastq/quality_control2\n"
      ],
      "metadata": {
        "id": "rj-vXVwwNcjN"
      },
      "execution_count": null,
      "outputs": []
    },
    {
      "cell_type": "code",
      "source": [
        "!ls -lh raw_fastq/"
      ],
      "metadata": {
        "colab": {
          "base_uri": "https://localhost:8080/"
        },
        "id": "LJjWvWNgN_DD",
        "outputId": "6893e7c5-4cf4-44d0-bf32-c9e4f85bbafe"
      },
      "execution_count": null,
      "outputs": [
        {
          "output_type": "stream",
          "name": "stdout",
          "text": [
            "total 407M\n",
            "drwxr-xr-x 2 root root 4.0K Aug  8 11:50 cutadapt\n",
            "drwxr-xr-x 2 root root 4.0K Aug  8 11:49 quality_control\n",
            "drwxr-xr-x 2 root root 4.0K Aug  8 11:50 quality_control2\n",
            "-rw-r--r-- 1 root root 407M Aug  8 11:48 SRR26832288.fastq\n"
          ]
        }
      ]
    },
    {
      "cell_type": "code",
      "source": [
        "!fastqc raw_fastq/cutadapt/trim.fastq -o raw_fastq/quality_control2\n"
      ],
      "metadata": {
        "colab": {
          "base_uri": "https://localhost:8080/"
        },
        "id": "uB8F2zdSN-33",
        "outputId": "3689dac9-c858-43da-f5de-bbbe1eb6715f"
      },
      "execution_count": null,
      "outputs": [
        {
          "output_type": "stream",
          "name": "stdout",
          "text": [
            "Started analysis of trim.fastq\n",
            "Approx 5% complete for trim.fastq\n",
            "Approx 10% complete for trim.fastq\n",
            "Approx 15% complete for trim.fastq\n",
            "Approx 20% complete for trim.fastq\n",
            "Approx 25% complete for trim.fastq\n",
            "Approx 30% complete for trim.fastq\n",
            "Approx 35% complete for trim.fastq\n",
            "Approx 40% complete for trim.fastq\n",
            "Approx 45% complete for trim.fastq\n",
            "Approx 50% complete for trim.fastq\n",
            "Approx 55% complete for trim.fastq\n",
            "Approx 60% complete for trim.fastq\n",
            "Approx 65% complete for trim.fastq\n",
            "Approx 70% complete for trim.fastq\n",
            "Approx 75% complete for trim.fastq\n",
            "Approx 80% complete for trim.fastq\n",
            "Approx 85% complete for trim.fastq\n",
            "Approx 90% complete for trim.fastq\n",
            "Approx 95% complete for trim.fastq\n",
            "Analysis complete for trim.fastq\n"
          ]
        }
      ]
    },
    {
      "cell_type": "markdown",
      "source": [
        "Saved to drive to view differences"
      ],
      "metadata": {
        "id": "P9Ro0yXbH2gd"
      }
    },
    {
      "cell_type": "code",
      "source": [
        "! ls -lh raw_fastq/quality_control2/"
      ],
      "metadata": {
        "colab": {
          "base_uri": "https://localhost:8080/"
        },
        "id": "NKbzVNptOSGG",
        "outputId": "ceccff98-fb10-441a-bcd2-49c2646dd9dd"
      },
      "execution_count": null,
      "outputs": [
        {
          "output_type": "stream",
          "name": "stdout",
          "text": [
            "total 1.3M\n",
            "-rw-r--r-- 1 root root 737K Aug  8 11:50 trim_fastqc.html\n",
            "-rw-r--r-- 1 root root 534K Aug  8 11:50 trim_fastqc.zip\n"
          ]
        }
      ]
    },
    {
      "cell_type": "code",
      "source": [
        "!cp raw_fastq/quality_control2/trim_fastqc.html /content/drive/MyDrive/FastQC_Reports/cutadapt.html"
      ],
      "metadata": {
        "id": "TPUIb5KrNHIZ"
      },
      "execution_count": null,
      "outputs": []
    },
    {
      "cell_type": "markdown",
      "source": [
        "#### Mapping of Sequence Reads to a Reference Genome\n",
        "\n",
        "Reference Genome is a standardized DNA sequence representing a species, created by integrating data from multiple healthy individuals. It minimizes individual variations and serves as a benchmark for comparing individual genomes.\n",
        "\n",
        "Required Files for Mapping:\n",
        "\n",
        "**FASTA File: **Contains the reference genome sequence.\n",
        "FASTQ Files: Contain the short-sequence reads to be aligned.\n",
        "\n",
        "**Annotation Files (GFF/GTF):** Provide additional gene information.\n",
        "\n",
        "**Alignment Process:** Involves using an aligner program to map the reads from FASTQ files to the reference genome in the FASTA file, resulting in aligned reads stored in SAM format.\n",
        "\n",
        "**Indexing Reference Genome:**\n",
        "The reference genome must be in properly formatted FASTA for indexing with the samtools faidx command. Each sequence must have a unique ID, and sequence lines should be of equal length.\n",
        "\n",
        "\n",
        "\n",
        "\n",
        "\n",
        "\n",
        "\n"
      ],
      "metadata": {
        "id": "n3ilwCvpdYfP"
      }
    },
    {
      "cell_type": "markdown",
      "source": [
        "**REFERENCE GENOME (FASTA FORMAT) AND ANNOTATION(GTF) DOWNLOAD**\n",
        "\n",
        "For tools like STAR, downloading the human reference genome and GTF annotation file from UCSC, as UCSC maintains the gene annotations in the required GTF format.\n"
      ],
      "metadata": {
        "id": "HnRmAXtb6tSV"
      }
    },
    {
      "cell_type": "code",
      "source": [
        "!apt-get install -y wget\n",
        "\n"
      ],
      "metadata": {
        "colab": {
          "base_uri": "https://localhost:8080/"
        },
        "id": "UwfwkLKE2KJi",
        "outputId": "cbb64251-b24f-4147-fe5b-e1eda4b6cb2c"
      },
      "execution_count": null,
      "outputs": [
        {
          "output_type": "stream",
          "name": "stdout",
          "text": [
            "Reading package lists... Done\n",
            "Building dependency tree... Done\n",
            "Reading state information... Done\n",
            "wget is already the newest version (1.21.2-2ubuntu1.1).\n",
            "0 upgraded, 0 newly installed, 0 to remove and 45 not upgraded.\n"
          ]
        }
      ]
    },
    {
      "cell_type": "markdown",
      "source": [
        "**Install reference genome**"
      ],
      "metadata": {
        "id": "J7wXejaq1JHL"
      }
    },
    {
      "cell_type": "markdown",
      "source": [
        "gunzip: This is a command-line utility used to decompress files that were compressed using the gzip compression algorithm.\n",
        "Homo_sapiens.GRCh38.dna.primary_assembly.fa.gz: Specifies the compressed file to be decompressed."
      ],
      "metadata": {
        "id": "QG9z0CKk1KEe"
      }
    },
    {
      "cell_type": "code",
      "source": [
        "# Step 1: Create a directory to store the files\n",
        "mkdir -p /content/genome_data\n",
        "\n",
        "# Step 2: Download the genome sequence (FASTA) and annotation file (GTF)\n",
        "wget -O /content/genome_data/hg38.fa.gz http://hgdownload.soe.ucsc.edu/goldenPath/hg38/bigZips/hg38.fa.gz\n",
        "wget -O /content/genome_data/hg38.ncbiRefSeq.gtf.gz http://hgdownload.soe.ucsc.edu/goldenPath/hg38/bigZips/genes/hg38.ncbiRefSeq.gtf.gz\n",
        "\n",
        "# Step 3: Uncompress the downloaded files\n",
        "gunzip /content/genome_data/hg38.fa.gz\n",
        "gunzip /content/genome_data/hg38.ncbiRefSeq.gtf.gz\n"
      ],
      "metadata": {
        "id": "F1ISfNlLgF7D"
      },
      "execution_count": null,
      "outputs": []
    },
    {
      "cell_type": "code",
      "source": [
        "#This is saved to a file genome_data\n",
        "!wget ftp://ftp.ensembl.org/pub/release-100/fasta/homo_sapiens/dna/Homo_sapiens.GRCh38.dna.primary_assembly.fa.gz -P /content/genome_data\n"
      ],
      "metadata": {
        "colab": {
          "base_uri": "https://localhost:8080/"
        },
        "id": "qo9kgmENLgl_",
        "outputId": "ccab3662-49f3-4b0a-92a8-e417ee5d53c5"
      },
      "execution_count": null,
      "outputs": [
        {
          "output_type": "stream",
          "name": "stdout",
          "text": [
            "--2024-08-08 16:07:17--  ftp://ftp.ensembl.org/pub/release-100/fasta/homo_sapiens/dna/Homo_sapiens.GRCh38.dna.primary_assembly.fa.gz\n",
            "           => ‘/content/genome_data/Homo_sapiens.GRCh38.dna.primary_assembly.fa.gz’\n",
            "Resolving ftp.ensembl.org (ftp.ensembl.org)... 193.62.193.169\n",
            "Connecting to ftp.ensembl.org (ftp.ensembl.org)|193.62.193.169|:21... connected.\n",
            "Logging in as anonymous ... Logged in!\n",
            "==> SYST ... done.    ==> PWD ... done.\n",
            "==> TYPE I ... done.  ==> CWD (1) /pub/release-100/fasta/homo_sapiens/dna ... done.\n",
            "==> SIZE Homo_sapiens.GRCh38.dna.primary_assembly.fa.gz ... 881211416\n",
            "==> PASV ... done.    ==> RETR Homo_sapiens.GRCh38.dna.primary_assembly.fa.gz ... done.\n",
            "Length: 881211416 (840M) (unauthoritative)\n",
            "\n",
            "Homo_sapiens.GRCh38 100%[===================>] 840.39M  23.4MB/s    in 38s     \n",
            "\n",
            "2024-08-08 16:07:58 (21.9 MB/s) - ‘/content/genome_data/Homo_sapiens.GRCh38.dna.primary_assembly.fa.gz’ saved [881211416]\n",
            "\n"
          ]
        }
      ]
    },
    {
      "cell_type": "code",
      "source": [
        "! ls -l /content/genome_data/"
      ],
      "metadata": {
        "colab": {
          "base_uri": "https://localhost:8080/"
        },
        "id": "aUf5_21_v9oL",
        "outputId": "d202cb22-9cb9-42e8-9a29-40258105b77b"
      },
      "execution_count": null,
      "outputs": [
        {
          "output_type": "stream",
          "name": "stdout",
          "text": [
            "total 860564\n",
            "-rw-r--r-- 1 root root 881211416 Aug  8 16:07 Homo_sapiens.GRCh38.dna.primary_assembly.fa.gz\n"
          ]
        }
      ]
    },
    {
      "cell_type": "code",
      "source": [
        "# Step 3: Decompress the genome file in the genome_data directory\n",
        "!gunzip /content/genome_data/Homo_sapiens.GRCh38.dna.primary_assembly.fa.gz"
      ],
      "metadata": {
        "id": "qeHbRd_-b2ni"
      },
      "execution_count": null,
      "outputs": []
    },
    {
      "cell_type": "code",
      "source": [
        "! head -n 10 /content/genome_data/Homo_sapiens.GRCh38.dna.primary_assembly.fa"
      ],
      "metadata": {
        "colab": {
          "base_uri": "https://localhost:8080/"
        },
        "id": "yC4I56TJ4UhD",
        "outputId": "e60049b6-dcc7-4148-a4c1-3a07b38a042e"
      },
      "execution_count": null,
      "outputs": [
        {
          "output_type": "stream",
          "name": "stdout",
          "text": [
            ">1 dna:chromosome chromosome:GRCh38:1:1:248956422:1 REF\n",
            "NNNNNNNNNNNNNNNNNNNNNNNNNNNNNNNNNNNNNNNNNNNNNNNNNNNNNNNNNNNN\n",
            "NNNNNNNNNNNNNNNNNNNNNNNNNNNNNNNNNNNNNNNNNNNNNNNNNNNNNNNNNNNN\n",
            "NNNNNNNNNNNNNNNNNNNNNNNNNNNNNNNNNNNNNNNNNNNNNNNNNNNNNNNNNNNN\n",
            "NNNNNNNNNNNNNNNNNNNNNNNNNNNNNNNNNNNNNNNNNNNNNNNNNNNNNNNNNNNN\n",
            "NNNNNNNNNNNNNNNNNNNNNNNNNNNNNNNNNNNNNNNNNNNNNNNNNNNNNNNNNNNN\n",
            "NNNNNNNNNNNNNNNNNNNNNNNNNNNNNNNNNNNNNNNNNNNNNNNNNNNNNNNNNNNN\n",
            "NNNNNNNNNNNNNNNNNNNNNNNNNNNNNNNNNNNNNNNNNNNNNNNNNNNNNNNNNNNN\n",
            "NNNNNNNNNNNNNNNNNNNNNNNNNNNNNNNNNNNNNNNNNNNNNNNNNNNNNNNNNNNN\n",
            "NNNNNNNNNNNNNNNNNNNNNNNNNNNNNNNNNNNNNNNNNNNNNNNNNNNNNNNNNNNN\n"
          ]
        }
      ]
    },
    {
      "cell_type": "markdown",
      "source": [
        "Download annotation file\n"
      ],
      "metadata": {
        "id": "uYo5etXpPYep"
      }
    },
    {
      "cell_type": "code",
      "source": [
        "!wget ftp://ftp.ensembl.org/pub/release-100/gtf/homo_sapiens/Homo_sapiens.GRCh38.100.gtf.gz -P /content/genome_data\n",
        "\n",
        "# Decompress the GTF file\n",
        "!gunzip /content/genome_data/Homo_sapiens.GRCh38.100.gtf.gz"
      ],
      "metadata": {
        "colab": {
          "base_uri": "https://localhost:8080/"
        },
        "id": "BDxF7jANe01s",
        "outputId": "c5f048fb-8e3a-43eb-8819-de81f9e680c9"
      },
      "execution_count": null,
      "outputs": [
        {
          "output_type": "stream",
          "name": "stdout",
          "text": [
            "--2024-08-08 16:15:38--  ftp://ftp.ensembl.org/pub/release-100/gtf/homo_sapiens/Homo_sapiens.GRCh38.100.gtf.gz\n",
            "           => ‘/content/genome_data/Homo_sapiens.GRCh38.100.gtf.gz’\n",
            "Resolving ftp.ensembl.org (ftp.ensembl.org)... 193.62.193.169\n",
            "Connecting to ftp.ensembl.org (ftp.ensembl.org)|193.62.193.169|:21... connected.\n",
            "Logging in as anonymous ... Logged in!\n",
            "==> SYST ... done.    ==> PWD ... done.\n",
            "==> TYPE I ... done.  ==> CWD (1) /pub/release-100/gtf/homo_sapiens ... done.\n",
            "==> SIZE Homo_sapiens.GRCh38.100.gtf.gz ... 46973686\n",
            "==> PASV ... done.    ==> RETR Homo_sapiens.GRCh38.100.gtf.gz ... done.\n",
            "Length: 46973686 (45M) (unauthoritative)\n",
            "\n",
            "Homo_sapiens.GRCh38 100%[===================>]  44.80M  13.1MB/s    in 3.6s    \n",
            "\n",
            "2024-08-08 16:15:44 (12.4 MB/s) - ‘/content/genome_data/Homo_sapiens.GRCh38.100.gtf.gz’ saved [46973686]\n",
            "\n"
          ]
        }
      ]
    },
    {
      "cell_type": "code",
      "source": [
        "!ls -l /content/genome_data/"
      ],
      "metadata": {
        "colab": {
          "base_uri": "https://localhost:8080/"
        },
        "id": "r7bDbOxP8dB6",
        "outputId": "b40c5c11-2c98-4128-beae-5d3f3de13270"
      },
      "execution_count": null,
      "outputs": [
        {
          "output_type": "stream",
          "name": "stdout",
          "text": [
            "total 4288436\n",
            "-rw-r--r-- 1 root root 1239920611 Aug  8 16:15 Homo_sapiens.GRCh38.100.gtf\n",
            "-rw-r--r-- 1 root root 3151425857 Aug  8 16:07 Homo_sapiens.GRCh38.dna.primary_assembly.fa\n"
          ]
        }
      ]
    },
    {
      "cell_type": "code",
      "source": [
        "! ls -l /content/"
      ],
      "metadata": {
        "colab": {
          "base_uri": "https://localhost:8080/"
        },
        "id": "Y2Hgk1eZYPir",
        "outputId": "31ab1fb2-2b1c-4c3c-b6df-0ac38eab0fe1"
      },
      "execution_count": null,
      "outputs": [
        {
          "output_type": "stream",
          "name": "stdout",
          "text": [
            "total 416752\n",
            "drwxr-xr-x 2 root root      4096 Aug  8 16:15 genome_data\n",
            "drwxr-xr-x 3 root root      4096 Aug  8 16:06 raw_fastq\n",
            "drwxr-xr-x 1 root root      4096 Aug  6 13:32 sample_data\n",
            "-rw-r--r-- 1 root root 426740978 Aug  8 16:05 SRR26832288_tab.txt\n"
          ]
        }
      ]
    },
    {
      "cell_type": "markdown",
      "source": [
        "### STAR (Spliced Transcripts Alignment to a Reference) for Indexing and Mapping\n",
        "\n",
        "STAR is a fast, efficient aligner for RNA-Seq reads, designed to handle the large volume of data in RNA-Seq experiments. It aligns RNA-Seq reads to a reference genome, accommodating RNA splicing complexities.\n",
        "\n",
        "**Key Features:**\n",
        "1. **Alignment Algorithm:**\n",
        "   - Uses an **Uncompressed Suffix Array (SA)** for rapid and accurate alignment.\n",
        "   - Employs **Sequential Maximum Mappable Seed Search** to identify the longest matching substrings (\"seeds\") of the genome.\n",
        "\n",
        "2. **Mapping Seeds:**\n",
        "   - **Seed Mapping:** Maps read segments (seeds) to the genome.\n",
        "   - **Splice Junctions:** Aligns reads across splice junctions by mapping unmapped segments to donor and acceptor splice sites.\n",
        "\n",
        "\n",
        "Overall, STAR is an efficient RNA-Seq aligner that uses advanced algorithms to handle splicing complexities, making it ideal for accurate and fast RNA-Seq data analysis."
      ],
      "metadata": {
        "id": "C9DKA5655S3d"
      }
    },
    {
      "cell_type": "markdown",
      "source": [
        "**Installing STAR**\n",
        "\n",
        "STAR basic workflow includes both index generation and read alignment. However, for index generation, both a reference genome in the FASTA format and reference annotation file in GTF format are required."
      ],
      "metadata": {
        "id": "nPjMb6OJ9_CY"
      }
    },
    {
      "cell_type": "code",
      "source": [
        "!wget https://github.com/alexdobin/STAR/archive/2.7.11b.tar.gz\n",
        "!tar -xzf 2.7.11b.tar.gz"
      ],
      "metadata": {
        "colab": {
          "base_uri": "https://localhost:8080/"
        },
        "id": "LCGG-zmPAstx",
        "outputId": "5a34c487-0f0e-439d-8847-db665fcb9f4a"
      },
      "execution_count": null,
      "outputs": [
        {
          "output_type": "stream",
          "name": "stdout",
          "text": [
            "--2024-08-08 16:19:16--  https://github.com/alexdobin/STAR/archive/2.7.11b.tar.gz\n",
            "Resolving github.com (github.com)... 20.205.243.166\n",
            "Connecting to github.com (github.com)|20.205.243.166|:443... connected.\n",
            "HTTP request sent, awaiting response... 302 Found\n",
            "Location: https://codeload.github.com/alexdobin/STAR/tar.gz/refs/tags/2.7.11b [following]\n",
            "--2024-08-08 16:19:16--  https://codeload.github.com/alexdobin/STAR/tar.gz/refs/tags/2.7.11b\n",
            "Resolving codeload.github.com (codeload.github.com)... 20.205.243.165\n",
            "Connecting to codeload.github.com (codeload.github.com)|20.205.243.165|:443... connected.\n",
            "HTTP request sent, awaiting response... 200 OK\n",
            "Length: unspecified [application/x-gzip]\n",
            "Saving to: ‘2.7.11b.tar.gz’\n",
            "\n",
            "2.7.11b.tar.gz          [        <=>         ]  11.89M  7.37MB/s    in 1.6s    \n",
            "\n",
            "2024-08-08 16:19:18 (7.37 MB/s) - ‘2.7.11b.tar.gz’ saved [12466670]\n",
            "\n"
          ]
        }
      ]
    },
    {
      "cell_type": "code",
      "source": [
        "! ls -l /content/"
      ],
      "metadata": {
        "colab": {
          "base_uri": "https://localhost:8080/"
        },
        "id": "OQttC0aFyDTW",
        "outputId": "24d4a52b-8b65-4174-887f-574ab0f3f4ae"
      },
      "execution_count": null,
      "outputs": [
        {
          "output_type": "stream",
          "name": "stdout",
          "text": [
            "total 428932\n",
            "-rw-r--r-- 1 root root  12466670 Aug  8 16:19 2.7.11b.tar.gz\n",
            "drwxr-xr-x 2 root root      4096 Aug  8 16:15 genome_data\n",
            "drwxr-xr-x 3 root root      4096 Aug  8 16:06 raw_fastq\n",
            "drwxr-xr-x 1 root root      4096 Aug  6 13:32 sample_data\n",
            "-rw-r--r-- 1 root root 426740978 Aug  8 16:05 SRR26832288_tab.txt\n",
            "drwxrwxr-x 7 root root      4096 Jan 25  2024 STAR-2.7.11b\n"
          ]
        }
      ]
    },
    {
      "cell_type": "markdown",
      "source": [
        "##### Ensuring STAR is installed and is the current working directory"
      ],
      "metadata": {
        "id": "mvH0i2We3Ryy"
      }
    },
    {
      "cell_type": "code",
      "source": [
        "%cd /content/STAR-2.7.11b"
      ],
      "metadata": {
        "id": "MOIg-_b3fQj8",
        "colab": {
          "base_uri": "https://localhost:8080/"
        },
        "outputId": "779bba31-82c5-4162-a1e8-50e4572c8f6f"
      },
      "execution_count": null,
      "outputs": [
        {
          "output_type": "stream",
          "name": "stdout",
          "text": [
            "/content/STAR-2.7.11b\n"
          ]
        }
      ]
    },
    {
      "cell_type": "code",
      "source": [
        "! ls -l /content/STAR-2.7.11b/\n"
      ],
      "metadata": {
        "colab": {
          "base_uri": "https://localhost:8080/"
        },
        "id": "LMLp0OW-e2c3",
        "outputId": "8c871be2-784c-47b2-8c1a-1a82bcf13a6e"
      },
      "execution_count": null,
      "outputs": [
        {
          "output_type": "stream",
          "name": "stdout",
          "text": [
            "total 120\n",
            "drwxrwxr-x 5 root root  4096 Jan 25  2024 bin\n",
            "-rw-rw-r-- 1 root root 47096 Jan 25  2024 CHANGES.md\n",
            "-rw-rw-r-- 1 root root  3346 Jan 25  2024 CODE_OF_CONDUCT.md\n",
            "-rw-rw-r-- 1 root root    25 Jan 25  2024 _config.yml\n",
            "-rw-rw-r-- 1 root root  5795 Jan 25  2024 CONTRIBUTING.md\n",
            "drwxrwxr-x 2 root root  4096 Jan 25  2024 doc\n",
            "drwxrwxr-x 2 root root  4096 Jan 25  2024 docs\n",
            "drwxrwxr-x 7 root root  4096 Jan 25  2024 extras\n",
            "-rw-rw-r-- 1 root root  1072 Jan 25  2024 LICENSE\n",
            "-rw-rw-r-- 1 root root  3547 Jan 25  2024 README.md\n",
            "-rw-rw-r-- 1 root root 20017 Jan 25  2024 RELEASEnotes.md\n",
            "drwxrwxr-x 5 root root 12288 Jan 25  2024 source\n"
          ]
        }
      ]
    },
    {
      "cell_type": "code",
      "source": [
        "%cd /content/STAR-2.7.11b/bin/Linux_x86_64\n"
      ],
      "metadata": {
        "colab": {
          "base_uri": "https://localhost:8080/"
        },
        "id": "XI7NfCrshlAB",
        "outputId": "ca140bc6-08b8-41b3-b449-e4ecc9bcb349"
      },
      "execution_count": null,
      "outputs": [
        {
          "output_type": "stream",
          "name": "stdout",
          "text": [
            "/content/STAR-2.7.11b/bin/Linux_x86_64\n"
          ]
        }
      ]
    },
    {
      "cell_type": "code",
      "source": [
        "!pwd"
      ],
      "metadata": {
        "colab": {
          "base_uri": "https://localhost:8080/"
        },
        "id": "zfQdz5VBh4rL",
        "outputId": "b4dcba33-f8c7-48c7-f669-5328002677df"
      },
      "execution_count": null,
      "outputs": [
        {
          "output_type": "stream",
          "name": "stdout",
          "text": [
            "/content/STAR-2.7.11b/bin/Linux_x86_64\n"
          ]
        }
      ]
    },
    {
      "cell_type": "code",
      "source": [
        "!ls -l /content/STAR-2.7.11b/bin/Linux_x86_64\n"
      ],
      "metadata": {
        "colab": {
          "base_uri": "https://localhost:8080/"
        },
        "id": "jU74gwMOgnmV",
        "outputId": "ed77972d-c7d1-4c2c-8c87-d79cbc29a092"
      },
      "execution_count": null,
      "outputs": [
        {
          "output_type": "stream",
          "name": "stdout",
          "text": [
            "total 6872\n",
            "-rwxrwxr-x 1 root root 3523048 Jan 25  2024 STAR\n",
            "-rwxrwxr-x 1 root root 3506608 Jan 25  2024 STARlong\n"
          ]
        }
      ]
    },
    {
      "cell_type": "code",
      "source": [
        "!./STAR --version\n"
      ],
      "metadata": {
        "colab": {
          "base_uri": "https://localhost:8080/"
        },
        "id": "kI9YRv3oicI7",
        "outputId": "57724aec-6546-45aa-f0a0-2b477f86af4d"
      },
      "execution_count": null,
      "outputs": [
        {
          "output_type": "stream",
          "name": "stdout",
          "text": [
            "2.7.11b\n"
          ]
        }
      ]
    },
    {
      "cell_type": "markdown",
      "source": [
        "### Building the index for the reference genome using the “STAR” command.\n",
        "\n",
        "**NOTE:** The full genome index could not be generated due to insufficient storage space. As a result, this limitation will impact the accuracy and completeness of read mapping. However, the command lines required to complete the mapping process, including feature counting, are provided in this code file for reference. You may run these commands on a system with adequate resources to achieve complete and accurate results."
      ],
      "metadata": {
        "id": "coko1-M39mHk"
      }
    },
    {
      "cell_type": "code",
      "source": [
        "# Index file directory\n",
        "! mkdir /content/indexes"
      ],
      "metadata": {
        "id": "o4wJeTpxeFQJ"
      },
      "execution_count": null,
      "outputs": []
    },
    {
      "cell_type": "code",
      "source": [
        "! /content/STAR-2.7.11b/bin/Linux_x86_64/STAR --runThreadN 4 --runMode genomeGenerate --genomeDir /content/indexes --genomeFastaFiles /content/genome_data/Homo_sapiens.GRCh38.dna.primary_assembly.fa --sjdbGTFfile /content/genome_data/Homo_sapiens.GRCh38.100.gtf --sjdbOverhang 99 --genomeSAindexNbases 11\n"
      ],
      "metadata": {
        "colab": {
          "base_uri": "https://localhost:8080/"
        },
        "id": "aWBZR51E92rx",
        "outputId": "e7e85b0d-e541-42d8-9e1e-4b1f9a86c149"
      },
      "execution_count": null,
      "outputs": [
        {
          "output_type": "stream",
          "name": "stdout",
          "text": [
            "\t/content/STAR-2.7.11b/bin/Linux_x86_64/STAR --runThreadN 4 --runMode genomeGenerate --genomeDir /content/indexes --genomeFastaFiles /content/genome_data/Homo_sapiens.GRCh38.dna.primary_assembly.fa --sjdbGTFfile /content/genome_data/Homo_sapiens.GRCh38.100.gtf --sjdbOverhang 99 --genomeSAindexNbases 11\n",
            "\tSTAR version: 2.7.11b   compiled: 2024-01-25T16:12:02-05:00 :/home/dobin/data/STAR/STARcode/STAR.master/source\n",
            "Aug 08 16:20:04 ..... started STAR run\n",
            "Aug 08 16:20:04 ... starting to generate Genome files\n",
            "Aug 08 16:21:05 ..... processing annotations GTF\n",
            "Aug 08 16:21:38 ... starting to sort Suffix Array. This may take a long time...\n",
            "Aug 08 16:22:02 ... sorting Suffix Array chunks and saving them to disk...\n",
            "^C\n"
          ]
        }
      ]
    },
    {
      "cell_type": "code",
      "source": [
        "!ls -l /content/indexes/"
      ],
      "metadata": {
        "colab": {
          "base_uri": "https://localhost:8080/"
        },
        "id": "6AJUsCTJigeD",
        "outputId": "88f4221f-4545-4016-a45f-959c3b8f6dab"
      },
      "execution_count": null,
      "outputs": [
        {
          "output_type": "stream",
          "name": "stdout",
          "text": [
            "total 94800\n",
            "-rw-r--r-- 1 root root     1200 Aug  8 16:21 chrLength.txt\n",
            "-rw-r--r-- 1 root root     3123 Aug  8 16:21 chrNameLength.txt\n",
            "-rw-r--r-- 1 root root     1923 Aug  8 16:21 chrName.txt\n",
            "-rw-r--r-- 1 root root     2129 Aug  8 16:21 chrStart.txt\n",
            "-rw-r--r-- 1 root root 48926071 Aug  8 16:21 exonGeTrInfo.tab\n",
            "-rw-r--r-- 1 root root 19914394 Aug  8 16:21 exonInfo.tab\n",
            "-rw-r--r-- 1 root root  2328978 Aug  8 16:21 geneInfo.tab\n",
            "-rw-r--r-- 1 root root    27777 Aug  8 16:22 Log.out\n",
            "-rw-r--r-- 1 root root 11040025 Aug  8 16:21 sjdbList.fromGTF.out.tab\n",
            "-rw-r--r-- 1 root root 14814946 Aug  8 16:21 transcriptInfo.tab\n"
          ]
        }
      ]
    },
    {
      "cell_type": "markdown",
      "source": [
        "##### Using STAR command for aligning the reads."
      ],
      "metadata": {
        "id": "fyeOzaw095B-"
      }
    },
    {
      "cell_type": "code",
      "source": [
        "#Directory for storing the Mapped Reads\n",
        "! mkdir /content/mapped\n",
        "\n"
      ],
      "metadata": {
        "id": "_T3laPRjzEZk"
      },
      "execution_count": 2,
      "outputs": []
    },
    {
      "cell_type": "code",
      "source": [
        "! ls -l /content/"
      ],
      "metadata": {
        "colab": {
          "base_uri": "https://localhost:8080/"
        },
        "id": "sFoNBty240h_",
        "outputId": "33a2ac48-c773-48b9-a234-a91e39dc0bf6"
      },
      "execution_count": null,
      "outputs": [
        {
          "output_type": "stream",
          "name": "stdout",
          "text": [
            "total 428940\n",
            "-rw-r--r-- 1 root root  12466670 Aug  8 16:19 2.7.11b.tar.gz\n",
            "drwxr-xr-x 2 root root      4096 Aug  8 16:15 genome_data\n",
            "drwxr-xr-x 2 root root      4096 Aug  8 16:21 indexes\n",
            "drwxr-xr-x 2 root root      4096 Aug  8 16:24 mapped\n",
            "drwxr-xr-x 3 root root      4096 Aug  8 16:06 raw_fastq\n",
            "drwxr-xr-x 1 root root      4096 Aug  6 13:32 sample_data\n",
            "-rw-r--r-- 1 root root 426740978 Aug  8 16:05 SRR26832288_tab.txt\n",
            "drwxrwxr-x 7 root root      4096 Jan 25  2024 STAR-2.7.11b\n"
          ]
        }
      ]
    },
    {
      "cell_type": "markdown",
      "source": [
        "**STAR Read Alignment**\n",
        "\n",
        "`mkdir mapped`: This command creates a directory named  `mapped` to store the output files.\n",
        "\n",
        "`readFilesIn`: bold text This option specifies the path to the cleaned or preprocessed reads.\n",
        "\n",
        "`SRR26832288_`: The prefix used in `/content/mapped/SRR26832288_` is defined by the `--outFileNamePrefix` option in the STAR command."
      ],
      "metadata": {
        "id": "zxRuRxs1mQXB"
      }
    },
    {
      "cell_type": "code",
      "source": [
        "! /content/STAR-2.7.11b/bin/Linux_x86_64/STAR --runThreadN 4 --genomeDir /content/indexes --readFilesIn /content/raw_fastq/cutadapt/trim.fastq --outFileNamePrefix /content/mapped/SRR26832288_\n"
      ],
      "metadata": {
        "colab": {
          "base_uri": "https://localhost:8080/"
        },
        "id": "KL5ZBYYYzaQQ",
        "outputId": "608371f4-2bf3-4840-9cee-d49aebcf1d98"
      },
      "execution_count": null,
      "outputs": [
        {
          "output_type": "stream",
          "name": "stdout",
          "text": [
            "\t/content/STAR-2.7.11b/bin/Linux_x86_64/STAR --runThreadN 4 --genomeDir /content/indexes --readFilesIn /content/raw_fastq/cutadapt/trim.fastq --outFileNamePrefix /content/mapped/SRR26832288_\n",
            "\tSTAR version: 2.7.11b   compiled: 2024-01-25T16:12:02-05:00 :/home/dobin/data/STAR/STARcode/STAR.master/source\n",
            "Aug 08 16:25:49 ..... started STAR run\n",
            "Aug 08 16:25:49 ..... loading genome\n",
            "\n",
            "EXITING because of FATAL ERROR: could not open genome file /content/indexes//genomeParameters.txt\n",
            "SOLUTION: check that the path to genome files, specified in --genomeDir is correct and the files are present, and have user read permsissions\n",
            "\n",
            "Aug 08 16:25:49 ...... FATAL ERROR, exiting\n"
          ]
        }
      ]
    },
    {
      "cell_type": "markdown",
      "source": [
        "**NOTE:** Due to the previously mentioned limitations, not all STAR alignment files were generated accurately.\n",
        "\n",
        "Typically, STAR alignment generates a BAM file, which includes read alignment data, along with four accompanying text files:\n",
        "\n",
        "1. **Log Files**: Three files containing various logs of the alignment process.\n",
        "2. **SJ.out.tab**: A tab-delimited file detailing splice junctions."
      ],
      "metadata": {
        "id": "WNyUCtJDl5gQ"
      }
    },
    {
      "cell_type": "markdown",
      "source": [
        "### MANIPULATING ALIGNMENTS IN SAM/BAM FILES"
      ],
      "metadata": {
        "id": "6LSjioOyBBQK"
      }
    },
    {
      "cell_type": "markdown",
      "source": [
        "**Convert SAM to BAM**\n",
        "\n",
        "Samtools is a toolkit for managing SAM/BAM files, handling tasks like sorting, merging, indexing, and format conversion.\n",
        "\n",
        "Before counting, it converts SAM to BAM and sorts BAM files for use with HTSeq-count or featureCounts. It also indexes BAM files for efficient data retrieval and prepares files for further analysis."
      ],
      "metadata": {
        "id": "QnRXiU173aq_"
      }
    },
    {
      "cell_type": "code",
      "source": [
        "!sudo apt-get install -y samtools"
      ],
      "metadata": {
        "colab": {
          "base_uri": "https://localhost:8080/"
        },
        "id": "bXbT4H763XiN",
        "outputId": "83023706-7176-42b1-a114-afc92d26a16c"
      },
      "execution_count": null,
      "outputs": [
        {
          "output_type": "stream",
          "name": "stdout",
          "text": [
            "Reading package lists... Done\n",
            "Building dependency tree... Done\n",
            "Reading state information... Done\n",
            "The following additional packages will be installed:\n",
            "  libhts3 libhtscodecs2\n",
            "Suggested packages:\n",
            "  cwltool\n",
            "The following NEW packages will be installed:\n",
            "  libhts3 libhtscodecs2 samtools\n",
            "0 upgraded, 3 newly installed, 0 to remove and 45 not upgraded.\n",
            "Need to get 963 kB of archives.\n",
            "After this operation, 2,270 kB of additional disk space will be used.\n",
            "Get:1 http://archive.ubuntu.com/ubuntu jammy/universe amd64 libhtscodecs2 amd64 1.1.1-3 [53.2 kB]\n",
            "Get:2 http://archive.ubuntu.com/ubuntu jammy/universe amd64 libhts3 amd64 1.13+ds-2build1 [390 kB]\n",
            "Get:3 http://archive.ubuntu.com/ubuntu jammy/universe amd64 samtools amd64 1.13-4 [520 kB]\n",
            "Fetched 963 kB in 2s (541 kB/s)\n",
            "debconf: unable to initialize frontend: Dialog\n",
            "debconf: (No usable dialog-like program is installed, so the dialog based frontend cannot be used. at /usr/share/perl5/Debconf/FrontEnd/Dialog.pm line 78, <> line 3.)\n",
            "debconf: falling back to frontend: Readline\n",
            "debconf: unable to initialize frontend: Readline\n",
            "debconf: (This frontend requires a controlling tty.)\n",
            "debconf: falling back to frontend: Teletype\n",
            "dpkg-preconfigure: unable to re-open stdin: \n",
            "Selecting previously unselected package libhtscodecs2:amd64.\n",
            "(Reading database ... 124547 files and directories currently installed.)\n",
            "Preparing to unpack .../libhtscodecs2_1.1.1-3_amd64.deb ...\n",
            "Unpacking libhtscodecs2:amd64 (1.1.1-3) ...\n",
            "Selecting previously unselected package libhts3:amd64.\n",
            "Preparing to unpack .../libhts3_1.13+ds-2build1_amd64.deb ...\n",
            "Unpacking libhts3:amd64 (1.13+ds-2build1) ...\n",
            "Selecting previously unselected package samtools.\n",
            "Preparing to unpack .../samtools_1.13-4_amd64.deb ...\n",
            "Unpacking samtools (1.13-4) ...\n",
            "Setting up libhtscodecs2:amd64 (1.1.1-3) ...\n",
            "Setting up libhts3:amd64 (1.13+ds-2build1) ...\n",
            "Setting up samtools (1.13-4) ...\n",
            "Processing triggers for man-db (2.10.2-1) ...\n",
            "Processing triggers for libc-bin (2.35-0ubuntu3.4) ...\n",
            "/sbin/ldconfig.real: /usr/local/lib/libtbbbind_2_0.so.3 is not a symbolic link\n",
            "\n",
            "/sbin/ldconfig.real: /usr/local/lib/libur_adapter_opencl.so.0 is not a symbolic link\n",
            "\n",
            "/sbin/ldconfig.real: /usr/local/lib/libur_adapter_level_zero.so.0 is not a symbolic link\n",
            "\n",
            "/sbin/ldconfig.real: /usr/local/lib/libtbbmalloc_proxy.so.2 is not a symbolic link\n",
            "\n",
            "/sbin/ldconfig.real: /usr/local/lib/libtbbbind_2_5.so.3 is not a symbolic link\n",
            "\n",
            "/sbin/ldconfig.real: /usr/local/lib/libur_loader.so.0 is not a symbolic link\n",
            "\n",
            "/sbin/ldconfig.real: /usr/local/lib/libtbbmalloc.so.2 is not a symbolic link\n",
            "\n",
            "/sbin/ldconfig.real: /usr/local/lib/libtbb.so.12 is not a symbolic link\n",
            "\n",
            "/sbin/ldconfig.real: /usr/local/lib/libtbbbind.so.3 is not a symbolic link\n",
            "\n"
          ]
        }
      ]
    },
    {
      "cell_type": "code",
      "source": [
        "!samtools --version\n"
      ],
      "metadata": {
        "colab": {
          "base_uri": "https://localhost:8080/"
        },
        "id": "dunSlEWF3vP6",
        "outputId": "0e11e1c6-d2a0-4266-d390-1d7ae09202dc"
      },
      "execution_count": null,
      "outputs": [
        {
          "output_type": "stream",
          "name": "stdout",
          "text": [
            "samtools 1.13\n",
            "Using htslib 1.13+ds\n",
            "Copyright (C) 2021 Genome Research Ltd.\n",
            "\n",
            "Samtools compilation details:\n",
            "    Features:       build=configure curses=yes \n",
            "    CC:             gcc\n",
            "    CPPFLAGS:       -frelease  -Wdate-time -D_FORTIFY_SOURCE=2\n",
            "    CFLAGS:         -g -O2 -ffile-prefix-map=�BUILDPATH�=. -flto=auto -ffat-lto-objects -fstack-protector-strong -Wformat -Werror=format-security\n",
            "    LDFLAGS:        -Wl,-Bsymbolic-functions -flto=auto -Wl,-z,relro -Wl,-z,now\n",
            "    HTSDIR:         \n",
            "    LIBS:           \n",
            "    CURSES_LIB:     -lcurses\n",
            "\n",
            "HTSlib compilation details:\n",
            "    Features:       build=configure plugins=yes, plugin-path=/usr/local/lib/htslib:/usr/local/libexec/htslib:: libcurl=yes S3=yes GCS=yes libdeflate=yes lzma=yes bzip2=yes htscodecs=1.1.1\n",
            "    CC:             gcc\n",
            "    CPPFLAGS:       -I. -DSAMTOOLS=1 -Wdate-time -D_FORTIFY_SOURCE=2\n",
            "    CFLAGS:         -g -O2 -ffile-prefix-map=/build/htslib-TQtOKr/htslib-1.13+ds=. -flto=auto -ffat-lto-objects -fstack-protector-strong -Wformat -Werror=format-security -flto -fvisibility=hidden -flto -fvisibility=hidden\n",
            "    LDFLAGS:        -Wl,-Bsymbolic-functions -flto=auto -Wl,-z,relro -Wl,-z,now -Wl,-flto -fvisibility=hidden -Wl,-flto -fvisibility=hidden\n",
            "\n",
            "HTSlib URL scheme handlers present:\n",
            "    built-in:\t preload, data, file\n",
            "    crypt4gh-needed:\t crypt4gh\n",
            "    mem:\t mem\n"
          ]
        }
      ]
    },
    {
      "cell_type": "code",
      "source": [
        "! ls -l /content/mapped/"
      ],
      "metadata": {
        "colab": {
          "base_uri": "https://localhost:8080/"
        },
        "id": "-hq5EmJp33xy",
        "outputId": "301da8ba-5847-4cf5-afbe-2dfa89571ae3"
      },
      "execution_count": null,
      "outputs": [
        {
          "output_type": "stream",
          "name": "stdout",
          "text": [
            "total 8\n",
            "-rw-r--r-- 1 root root    0 Aug  8 16:25 SRR26832288_Aligned.out.sam\n",
            "-rw-r--r-- 1 root root 2117 Aug  8 16:25 SRR26832288_Log.out\n",
            "-rw-r--r-- 1 root root    0 Aug  8 16:25 SRR26832288_Log.progress.out\n",
            "drwx------ 2 root root 4096 Aug  8 16:25 SRR26832288__STARtmp\n"
          ]
        }
      ]
    },
    {
      "cell_type": "code",
      "source": [
        "!head -n 10 /content/mapped/SRR26832288_Aligned.out.sam\n"
      ],
      "metadata": {
        "id": "dP8rwzIs4XKY"
      },
      "execution_count": null,
      "outputs": []
    },
    {
      "cell_type": "code",
      "source": [
        "!samtools view -S -b /content/mapped/SRR26832288_Aligned.out.sam > /content/mapped/aligned.bam"
      ],
      "metadata": {
        "colab": {
          "base_uri": "https://localhost:8080/"
        },
        "id": "9o6VMKB83xIA",
        "outputId": "64f9e344-5992-4625-c390-a8b89afd94c5"
      },
      "execution_count": null,
      "outputs": [
        {
          "output_type": "stream",
          "name": "stdout",
          "text": [
            "[main_samview] fail to read the header from \"/content/mapped/SRR26832288_Aligned.out.sam\".\n"
          ]
        }
      ]
    },
    {
      "cell_type": "markdown",
      "source": [
        "Samtools could not complete the conversion process due to insufficient storage space for the genome reference data, as previously noted."
      ],
      "metadata": {
        "id": "pG_ZFrPXqi5d"
      }
    },
    {
      "cell_type": "markdown",
      "source": [
        "### QUANTIFICATION:\n",
        "\n",
        "Quantification of reads involves counting the number of reads aligned to each gene on the reference genome. Using a BAM file with aligned RNA-Seq reads and a GTF annotation file, a read counting program tallies the reads mapping to each genomic feature.\n",
        "\n",
        "The most commonly used free and open-source programs for read counting are **HTSeq-count**, a Python-based tool, and **FeatureCounts**, which is a command-line tool for Linux."
      ],
      "metadata": {
        "id": "CtNlm7Vi0QPr"
      }
    },
    {
      "cell_type": "code",
      "source": [
        "#For HTSEQ\n",
        "!pip install htseq\n"
      ],
      "metadata": {
        "id": "82UBLn0CA88x",
        "colab": {
          "base_uri": "https://localhost:8080/"
        },
        "outputId": "c0b431f8-eb5f-4999-c4c4-e41ce28589f1"
      },
      "execution_count": null,
      "outputs": [
        {
          "output_type": "stream",
          "name": "stdout",
          "text": [
            "Collecting htseq\n",
            "  Downloading HTSeq-2.0.8-cp310-cp310-manylinux_2_17_x86_64.manylinux2014_x86_64.whl.metadata (3.8 kB)\n",
            "Requirement already satisfied: numpy in /usr/local/lib/python3.10/dist-packages (from htseq) (1.26.4)\n",
            "Collecting pysam (from htseq)\n",
            "  Downloading pysam-0.22.1-cp310-cp310-manylinux_2_28_x86_64.whl.metadata (1.5 kB)\n",
            "Downloading HTSeq-2.0.8-cp310-cp310-manylinux_2_17_x86_64.manylinux2014_x86_64.whl (2.0 MB)\n",
            "\u001b[2K   \u001b[90m━━━━━━━━━━━━━━━━━━━━━━━━━━━━━━━━━━━━━━━━\u001b[0m \u001b[32m2.0/2.0 MB\u001b[0m \u001b[31m7.3 MB/s\u001b[0m eta \u001b[36m0:00:00\u001b[0m\n",
            "\u001b[?25hDownloading pysam-0.22.1-cp310-cp310-manylinux_2_28_x86_64.whl (22.0 MB)\n",
            "\u001b[2K   \u001b[90m━━━━━━━━━━━━━━━━━━━━━━━━━━━━━━━━━━━━━━━━\u001b[0m \u001b[32m22.0/22.0 MB\u001b[0m \u001b[31m59.2 MB/s\u001b[0m eta \u001b[36m0:00:00\u001b[0m\n",
            "\u001b[?25hInstalling collected packages: pysam, htseq\n",
            "Successfully installed htseq-2.0.8 pysam-0.22.1\n"
          ]
        }
      ]
    },
    {
      "cell_type": "code",
      "source": [
        "!htseq-count -f bam -r pos -s no -a 10 /content/alignment_results/Aligned.sortedByCoord.out.bam /content/ucscref/hg38.ncbiRefSeq.gtf > /content/feature_counts.txt\n"
      ],
      "metadata": {
        "id": "_5t7fXZ12lxD"
      },
      "execution_count": null,
      "outputs": []
    },
    {
      "cell_type": "markdown",
      "source": [
        "-f bam: Indicates that the input file format is BAM.\n",
        "\n",
        "-r pos: Specifies that the reads are sorted by position.\n",
        "\n",
        "-s no: Indicates that the data is not strand-specific. If your data is strand-specific, use -s yes.\n",
        "\n",
        "\n",
        "/content/alignment_results/Aligned.sortedByCoord.out.bam: Path to the BAM file.\n",
        "\n",
        "/content/ucscref/hg38.ncbiRefSeq.gtf: Path to the GTF annotation file.\n",
        "\n",
        "/content/feature_counts.txt: Redirects the output to a file."
      ],
      "metadata": {
        "id": "l-hLImmR2q2C"
      }
    }
  ]
}